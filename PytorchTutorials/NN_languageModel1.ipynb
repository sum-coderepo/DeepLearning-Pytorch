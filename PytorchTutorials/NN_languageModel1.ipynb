{
  "nbformat": 4,
  "nbformat_minor": 0,
  "metadata": {
    "application/vnd.databricks.v1+notebook": {
      "notebookName": "RNN (1) (1)",
      "dashboards": [],
      "notebookMetadata": {
        "pythonIndentUnit": 2
      },
      "language": "python",
      "widgets": {},
      "notebookOrigID": 3824766781752871
    },
    "colab": {
      "name": "RNN (1) (1).ipynb",
      "provenance": [],
      "include_colab_link": true
    },
    "language_info": {
      "name": "python"
    },
    "kernelspec": {
      "name": "python3",
      "display_name": "Python 3"
    }
  },
  "cells": [
    {
      "cell_type": "markdown",
      "metadata": {
        "id": "view-in-github",
        "colab_type": "text"
      },
      "source": [
        "<a href=\"https://colab.research.google.com/github/sum-coderepo/DeepLearning-Pytorch/blob/master/PytorchTutorials/NN_languageModel1.ipynb\" target=\"_parent\"><img src=\"https://colab.research.google.com/assets/colab-badge.svg\" alt=\"Open In Colab\"/></a>"
      ]
    },
    {
      "cell_type": "code",
      "metadata": {
        "application/vnd.databricks.v1+cell": {
          "title": "",
          "showTitle": false,
          "inputWidgets": {},
          "nuid": "d72337f3-a1c0-4d5b-a146-8094ea8ce529"
        },
        "colab": {
          "base_uri": "https://localhost:8080/"
        },
        "id": "qu2DC1lWnsJo",
        "outputId": "f718693c-5eff-403b-854e-b2e591208c8b"
      },
      "source": [
        "import torch\n",
        "import os\n",
        "import torch\n",
        "import torch.nn as nn\n",
        "import torch.optim as optim\n",
        "import spacy\n",
        "import numpy as np\n",
        "import random\n",
        "import math\n",
        "import time\n",
        "import string\n",
        "import pandas\n",
        "from sklearn.model_selection import train_test_split\n",
        "from spacy.lang.en import English\n",
        "!python3 -m spacy download en_core_web_sm\n",
        "nlp = spacy.load('en_core_web_sm')\n",
        "#nlp.add_pipe('sentencizer')\n",
        "nlp.add_pipe(nlp.create_pipe('sentencizer'))\n",
        "nlp.max_length = 15000000"
      ],
      "execution_count": 22,
      "outputs": [
        {
          "output_type": "stream",
          "text": [
            "Requirement already satisfied: en_core_web_sm==2.2.5 from https://github.com/explosion/spacy-models/releases/download/en_core_web_sm-2.2.5/en_core_web_sm-2.2.5.tar.gz#egg=en_core_web_sm==2.2.5 in /usr/local/lib/python3.7/dist-packages (2.2.5)\n",
            "Requirement already satisfied: spacy>=2.2.2 in /usr/local/lib/python3.7/dist-packages (from en_core_web_sm==2.2.5) (2.2.4)\n",
            "Requirement already satisfied: srsly<1.1.0,>=1.0.2 in /usr/local/lib/python3.7/dist-packages (from spacy>=2.2.2->en_core_web_sm==2.2.5) (1.0.5)\n",
            "Requirement already satisfied: murmurhash<1.1.0,>=0.28.0 in /usr/local/lib/python3.7/dist-packages (from spacy>=2.2.2->en_core_web_sm==2.2.5) (1.0.5)\n",
            "Requirement already satisfied: blis<0.5.0,>=0.4.0 in /usr/local/lib/python3.7/dist-packages (from spacy>=2.2.2->en_core_web_sm==2.2.5) (0.4.1)\n",
            "Requirement already satisfied: numpy>=1.15.0 in /usr/local/lib/python3.7/dist-packages (from spacy>=2.2.2->en_core_web_sm==2.2.5) (1.19.5)\n",
            "Requirement already satisfied: wasabi<1.1.0,>=0.4.0 in /usr/local/lib/python3.7/dist-packages (from spacy>=2.2.2->en_core_web_sm==2.2.5) (0.8.2)\n",
            "Requirement already satisfied: plac<1.2.0,>=0.9.6 in /usr/local/lib/python3.7/dist-packages (from spacy>=2.2.2->en_core_web_sm==2.2.5) (1.1.3)\n",
            "Requirement already satisfied: tqdm<5.0.0,>=4.38.0 in /usr/local/lib/python3.7/dist-packages (from spacy>=2.2.2->en_core_web_sm==2.2.5) (4.41.1)\n",
            "Requirement already satisfied: cymem<2.1.0,>=2.0.2 in /usr/local/lib/python3.7/dist-packages (from spacy>=2.2.2->en_core_web_sm==2.2.5) (2.0.5)\n",
            "Requirement already satisfied: requests<3.0.0,>=2.13.0 in /usr/local/lib/python3.7/dist-packages (from spacy>=2.2.2->en_core_web_sm==2.2.5) (2.23.0)\n",
            "Requirement already satisfied: setuptools in /usr/local/lib/python3.7/dist-packages (from spacy>=2.2.2->en_core_web_sm==2.2.5) (54.2.0)\n",
            "Requirement already satisfied: catalogue<1.1.0,>=0.0.7 in /usr/local/lib/python3.7/dist-packages (from spacy>=2.2.2->en_core_web_sm==2.2.5) (1.0.0)\n",
            "Requirement already satisfied: thinc==7.4.0 in /usr/local/lib/python3.7/dist-packages (from spacy>=2.2.2->en_core_web_sm==2.2.5) (7.4.0)\n",
            "Requirement already satisfied: preshed<3.1.0,>=3.0.2 in /usr/local/lib/python3.7/dist-packages (from spacy>=2.2.2->en_core_web_sm==2.2.5) (3.0.5)\n",
            "Requirement already satisfied: idna<3,>=2.5 in /usr/local/lib/python3.7/dist-packages (from requests<3.0.0,>=2.13.0->spacy>=2.2.2->en_core_web_sm==2.2.5) (2.10)\n",
            "Requirement already satisfied: urllib3!=1.25.0,!=1.25.1,<1.26,>=1.21.1 in /usr/local/lib/python3.7/dist-packages (from requests<3.0.0,>=2.13.0->spacy>=2.2.2->en_core_web_sm==2.2.5) (1.24.3)\n",
            "Requirement already satisfied: certifi>=2017.4.17 in /usr/local/lib/python3.7/dist-packages (from requests<3.0.0,>=2.13.0->spacy>=2.2.2->en_core_web_sm==2.2.5) (2020.12.5)\n",
            "Requirement already satisfied: chardet<4,>=3.0.2 in /usr/local/lib/python3.7/dist-packages (from requests<3.0.0,>=2.13.0->spacy>=2.2.2->en_core_web_sm==2.2.5) (3.0.4)\n",
            "Requirement already satisfied: importlib-metadata>=0.20; python_version < \"3.8\" in /usr/local/lib/python3.7/dist-packages (from catalogue<1.1.0,>=0.0.7->spacy>=2.2.2->en_core_web_sm==2.2.5) (3.8.1)\n",
            "Requirement already satisfied: zipp>=0.5 in /usr/local/lib/python3.7/dist-packages (from importlib-metadata>=0.20; python_version < \"3.8\"->catalogue<1.1.0,>=0.0.7->spacy>=2.2.2->en_core_web_sm==2.2.5) (3.4.1)\n",
            "Requirement already satisfied: typing-extensions>=3.6.4; python_version < \"3.8\" in /usr/local/lib/python3.7/dist-packages (from importlib-metadata>=0.20; python_version < \"3.8\"->catalogue<1.1.0,>=0.0.7->spacy>=2.2.2->en_core_web_sm==2.2.5) (3.7.4.3)\n",
            "\u001b[38;5;2m✔ Download and installation successful\u001b[0m\n",
            "You can now load the model via spacy.load('en_core_web_sm')\n"
          ],
          "name": "stdout"
        }
      ]
    },
    {
      "cell_type": "code",
      "metadata": {
        "application/vnd.databricks.v1+cell": {
          "title": "",
          "showTitle": false,
          "inputWidgets": {},
          "nuid": "af5320bb-a885-4fb5-ae5d-5b05676f0a18"
        },
        "id": "aoiSuEsEnsJ3",
        "outputId": "8f413ab2-61a1-45f9-db1c-985aa4c5a7fc"
      },
      "source": [
        "#pip install --ignore-installed --upgrade tensorflow-gpu==2.4.0"
      ],
      "execution_count": null,
      "outputs": [
        {
          "output_type": "display_data",
          "data": {
            "text/html": [
              "<style scoped>\n",
              "  .ansiout {\n",
              "    display: block;\n",
              "    unicode-bidi: embed;\n",
              "    white-space: pre-wrap;\n",
              "    word-wrap: break-word;\n",
              "    word-break: break-all;\n",
              "    font-family: \"Source Code Pro\", \"Menlo\", monospace;;\n",
              "    font-size: 13px;\n",
              "    color: #555;\n",
              "    margin-left: 4px;\n",
              "    line-height: 19px;\n",
              "  }\n",
              "</style>\n",
              "<div class=\"ansiout\"></div>"
            ]
          },
          "metadata": {
            "tags": [],
            "application/vnd.databricks.v1+output": {
              "datasetInfos": [],
              "data": "<div class=\"ansiout\"></div>",
              "removedWidgets": [],
              "addedWidgets": {},
              "type": "html",
              "arguments": {}
            }
          }
        }
      ]
    },
    {
      "cell_type": "code",
      "metadata": {
        "application/vnd.databricks.v1+cell": {
          "title": "",
          "showTitle": false,
          "inputWidgets": {},
          "nuid": "744e3afc-dc1f-4086-a25b-925da829c487"
        },
        "id": "3qoHDvNpnsJ5"
      },
      "source": [
        "class Dictionary(object):\n",
        "    def __init__(self):\n",
        "        self.word2idx = {}\n",
        "        self.idx2word = {}\n",
        "        self.idx = 0\n",
        "\n",
        "    def add_word(self, word):\n",
        "        if not word in self.word2idx:\n",
        "            self.word2idx[word] = self.idx\n",
        "            self.idx2word[self.idx] = word\n",
        "            self.idx += 1\n",
        "\n",
        "    def __len__(self):\n",
        "        return len(self.word2idx)\n",
        "\n",
        "\n",
        "class Corpus(object):\n",
        "    def __init__(self):\n",
        "        self.dictionary = Dictionary()\n",
        "\n",
        "    def get_data(self, path, batch_size=20):\n",
        "        # Add words to the dictionary\n",
        "        split_sent = split_in_sentences1(path)\n",
        "        tokens = {1:0,2:0,3:0}\n",
        "        \n",
        "        train, test = train_test_split(split_sent, train_size = 0.7)\n",
        "        test , val = train_test_split(test, train_size = 0.66)        \n",
        "        print(len(train), len(test), len(val))\n",
        "        \n",
        "        lst = [train, test, val]\n",
        "        seq = 0\n",
        "        for data in lst:\n",
        "          seq = seq + 1\n",
        "          for line in data:\n",
        "            words = line.split() + ['<eos>']\n",
        "            tokens[seq] += len(words)\n",
        "            for word in words:\n",
        "                self.dictionary.add_word(word)\n",
        "                \n",
        "        \n",
        "        print(tokens)\n",
        "        train_ids = torch.LongTensor(tokens[1])\n",
        "        test_ids = torch.LongTensor(tokens[2])\n",
        "        val_ids = torch.LongTensor(tokens[3])\n",
        "             \n",
        "        train_tensor = self.create_tensors(train_ids, train)\n",
        "        test_tensor = self.create_tensors(test_ids, test)\n",
        "        val_tensor = self.create_tensors(val_ids, val)\n",
        "        \n",
        "        return train_tensor, test_tensor, val_tensor\n",
        "      \n",
        "      \n",
        "    def create_tensors( self, tensor, data):\n",
        "        token = 0\n",
        "        for line in data:\n",
        "                words = line.split() + ['<eos>']\n",
        "                for word in words:\n",
        "                    tensor[token] = self.dictionary.word2idx[word]\n",
        "                    #print(word, self.dictionary.word2idx[word])\n",
        "                    token += 1\n",
        "        num_batches = tensor.size(0) // batch_size\n",
        "        tensor = tensor[:num_batches*batch_size]\n",
        "        return tensor.view(batch_size, -1)  \n",
        "      \n",
        "       \n",
        "def split_in_sentences1(path): \n",
        "    split_sent = []\n",
        "    with open(path, 'r') as f:\n",
        "      data = f.read()\n",
        "      data = data.split('\\n')\n",
        "      data = \" \".join(data) \n",
        "      data = data.split('.')\n",
        "      for sent in data:\n",
        "        if len(str(sent).strip())> 0:\n",
        "            split_sent.append(str(sent).strip())\n",
        "    return split_sent  \n",
        "    "
      ],
      "execution_count": 23,
      "outputs": []
    },
    {
      "cell_type": "code",
      "metadata": {
        "application/vnd.databricks.v1+cell": {
          "title": "",
          "showTitle": false,
          "inputWidgets": {},
          "nuid": "6e0cf949-8cd1-430a-968e-d83d7409bdd3"
        },
        "id": "_uTgFmN_nsJ8"
      },
      "source": [
        "import torch\n",
        "import torch.nn as nn\n",
        "import numpy as np\n",
        "from torch.nn.utils import clip_grad_norm_\n",
        "# Device configuration\n",
        "device = torch.device('cuda' if torch.cuda.is_available() else 'cpu')\n",
        "\n",
        "# Hyper-parameters\n",
        "embed_size = 128\n",
        "hidden_size = 1024\n",
        "num_layers = 1\n",
        "num_epochs = 5\n",
        "batch_size = 20 \n",
        "seq_length = 30 \n",
        "learning_rate = 0.001"
      ],
      "execution_count": 27,
      "outputs": []
    },
    {
      "cell_type": "code",
      "metadata": {
        "application/vnd.databricks.v1+cell": {
          "title": "",
          "showTitle": false,
          "inputWidgets": {},
          "nuid": "0ad101b9-0d87-4041-bc86-72ea31db77be"
        },
        "colab": {
          "base_uri": "https://localhost:8080/"
        },
        "id": "pr_XdbCLnsJ-",
        "outputId": "4b040342-9a80-4351-8e8b-f44dbcd1a9b6"
      },
      "source": [
        "corpus = Corpus()\n",
        "train_tensors, test_tensors, val_tensors = corpus.get_data('brown.txt', batch_size)\n",
        "vocab_size = len(corpus.dictionary)\n",
        "num_batches = train_tensors.size(1) // seq_length"
      ],
      "execution_count": 25,
      "outputs": [
        {
          "output_type": "stream",
          "text": [
            "34771 9835 5067\n",
            "{1: 744508, 2: 211643, 3: 109601}\n"
          ],
          "name": "stdout"
        }
      ]
    },
    {
      "cell_type": "code",
      "metadata": {
        "application/vnd.databricks.v1+cell": {
          "title": "",
          "showTitle": false,
          "inputWidgets": {},
          "nuid": "da7384d0-bca6-403c-bad7-71760e8e5558"
        },
        "colab": {
          "base_uri": "https://localhost:8080/"
        },
        "id": "O-oMAvSBnsJ_",
        "outputId": "4cd396f3-de3a-4849-cd30-a2084cea7f8d"
      },
      "source": [
        "train_tensors.size(), test_tensors.size(), val_tensors.size()"
      ],
      "execution_count": 28,
      "outputs": [
        {
          "output_type": "execute_result",
          "data": {
            "text/plain": [
              "(torch.Size([20, 37225]), torch.Size([20, 10582]), torch.Size([20, 5480]))"
            ]
          },
          "metadata": {
            "tags": []
          },
          "execution_count": 28
        }
      ]
    },
    {
      "cell_type": "code",
      "metadata": {
        "colab": {
          "base_uri": "https://localhost:8080/"
        },
        "id": "ZIm-iw1Zot5m",
        "outputId": "66cd3832-1905-4671-dd26-9f7c78352ae6"
      },
      "source": [
        "num_batches"
      ],
      "execution_count": 29,
      "outputs": [
        {
          "output_type": "execute_result",
          "data": {
            "text/plain": [
              "1240"
            ]
          },
          "metadata": {
            "tags": []
          },
          "execution_count": 29
        }
      ]
    },
    {
      "cell_type": "code",
      "metadata": {
        "application/vnd.databricks.v1+cell": {
          "title": "",
          "showTitle": false,
          "inputWidgets": {},
          "nuid": "f44fead7-c4df-4140-94ed-49343a931f6a"
        },
        "id": "7lm3Yrr0nsKG"
      },
      "source": [
        "# RNN based language model\n",
        "class LSTMLM(nn.Module):\n",
        "    def __init__(self, vocab_size, embed_size, hidden_size, num_layers):\n",
        "        super(RNNLM, self).__init__()\n",
        "        self.embed = nn.Embedding(vocab_size, embed_size)\n",
        "        self.lstm = nn.LSTM(embed_size, hidden_size, num_layers, batch_first=True)\n",
        "        self.linear = nn.Linear(hidden_size, vocab_size)\n",
        "        \n",
        "    def forward(self, x, h):\n",
        "        \n",
        "        x = self.embed(x)     \n",
        "        out, (h, c) = self.lstm(x, h)\n",
        "        out = out.reshape(out.size(0)*out.size(1), out.size(2))\n",
        "        out = self.linear(out)\n",
        "        return out, (h, c)     \n",
        "    \n",
        "    def init_hidden(self,batch_size):\n",
        "        self.hidden = Variable(T.zeros(self.n_layers, batch_size, self.hidden_size).cuda())\n",
        "\n",
        "\n",
        "model = RNNLM(vocab_size, embed_size, hidden_size, num_layers).to(device)"
      ],
      "execution_count": 30,
      "outputs": []
    },
    {
      "cell_type": "code",
      "metadata": {
        "application/vnd.databricks.v1+cell": {
          "title": "",
          "showTitle": false,
          "inputWidgets": {},
          "nuid": "8af0f87c-8a8c-4c78-a6e5-737279058914"
        },
        "id": "KOFyvLDinsKH"
      },
      "source": [
        "# Loss and optimizer\n",
        "criterion = nn.CrossEntropyLoss()\n",
        "optimizer = torch.optim.Adam(model.parameters(), lr=learning_rate)\n",
        "\n",
        "# Truncated backpropagation\n",
        "def detach(states):\n",
        "    return [state.detach() for state in states] "
      ],
      "execution_count": 31,
      "outputs": []
    },
    {
      "cell_type": "code",
      "metadata": {
        "application/vnd.databricks.v1+cell": {
          "title": "",
          "showTitle": false,
          "inputWidgets": {},
          "nuid": "6be6bbfc-e52e-4c5d-beeb-2eb8677490ce"
        },
        "colab": {
          "base_uri": "https://localhost:8080/"
        },
        "id": "NJi4VhcDnsKI",
        "outputId": "c8391e36-a713-4f87-be10-33ab14b34922"
      },
      "source": [
        "# Train the model\n",
        "for epoch in range(num_epochs):\n",
        "    states = (torch.zeros(num_layers, batch_size, hidden_size).to(device),\n",
        "              torch.zeros(num_layers, batch_size, hidden_size).to(device))\n",
        "    \n",
        "    for i in range(0, train_tensors.size(1) - seq_length, seq_length): \n",
        "        # Get mini-batch inputs and targets\n",
        "        inputs = train_tensors[:, i:i+seq_length].to(device)\n",
        "        targets = train_tensors[:, (i+1):(i+1)+seq_length].to(device)\n",
        "        states = detach(states)\n",
        "        outputs, states = model(inputs, states)\n",
        "        \n",
        "        loss = criterion(outputs, targets.reshape(-1))\n",
        "        \n",
        "        optimizer.zero_grad()\n",
        "        loss.backward()\n",
        "        clip_grad_norm_(model.parameters(), 0.5)\n",
        "        optimizer.step()\n",
        "        \n",
        "        step = (i+1) // seq_length\n",
        "        if step % 25 == 0:\n",
        "            print ('Epoch [{}/{}], Step[{}/{}], Loss: {:.4f}, Perplexity: {:5.2f}'\n",
        "                   .format(epoch+1, num_epochs, step, num_batches, loss.item(), np.exp(loss.item())))"
      ],
      "execution_count": null,
      "outputs": [
        {
          "output_type": "stream",
          "text": [
            "Epoch [1/5], Step[0/1240], Loss: 11.3973, Perplexity: 89082.56\n",
            "Epoch [1/5], Step[25/1240], Loss: 8.1134, Perplexity: 3338.84\n",
            "Epoch [1/5], Step[50/1240], Loss: 7.9097, Perplexity: 2723.53\n",
            "Epoch [1/5], Step[75/1240], Loss: 7.6686, Perplexity: 2140.14\n",
            "Epoch [1/5], Step[100/1240], Loss: 7.4877, Perplexity: 1786.02\n",
            "Epoch [1/5], Step[125/1240], Loss: 7.4912, Perplexity: 1792.26\n",
            "Epoch [1/5], Step[150/1240], Loss: 7.4028, Perplexity: 1640.56\n",
            "Epoch [1/5], Step[175/1240], Loss: 7.5551, Perplexity: 1910.40\n",
            "Epoch [1/5], Step[200/1240], Loss: 7.2774, Perplexity: 1447.21\n",
            "Epoch [1/5], Step[225/1240], Loss: 7.2473, Perplexity: 1404.25\n",
            "Epoch [1/5], Step[250/1240], Loss: 7.9048, Perplexity: 2710.13\n",
            "Epoch [1/5], Step[275/1240], Loss: 6.9946, Perplexity: 1090.76\n",
            "Epoch [1/5], Step[300/1240], Loss: 6.9798, Perplexity: 1074.71\n",
            "Epoch [1/5], Step[325/1240], Loss: 7.3791, Perplexity: 1602.07\n",
            "Epoch [1/5], Step[350/1240], Loss: 6.8993, Perplexity: 991.58\n",
            "Epoch [1/5], Step[375/1240], Loss: 7.1031, Perplexity: 1215.74\n",
            "Epoch [1/5], Step[400/1240], Loss: 7.1353, Perplexity: 1255.56\n",
            "Epoch [1/5], Step[425/1240], Loss: 6.9741, Perplexity: 1068.65\n",
            "Epoch [1/5], Step[450/1240], Loss: 7.0245, Perplexity: 1123.84\n",
            "Epoch [1/5], Step[475/1240], Loss: 6.9908, Perplexity: 1086.64\n",
            "Epoch [1/5], Step[500/1240], Loss: 6.6632, Perplexity: 783.09\n",
            "Epoch [1/5], Step[525/1240], Loss: 7.1450, Perplexity: 1267.77\n",
            "Epoch [1/5], Step[550/1240], Loss: 7.1394, Perplexity: 1260.71\n",
            "Epoch [1/5], Step[575/1240], Loss: 7.2258, Perplexity: 1374.39\n",
            "Epoch [1/5], Step[600/1240], Loss: 6.8273, Perplexity: 922.65\n",
            "Epoch [1/5], Step[625/1240], Loss: 6.9564, Perplexity: 1049.81\n",
            "Epoch [1/5], Step[650/1240], Loss: 7.0891, Perplexity: 1198.85\n",
            "Epoch [1/5], Step[675/1240], Loss: 6.9187, Perplexity: 1011.05\n",
            "Epoch [1/5], Step[700/1240], Loss: 6.7476, Perplexity: 852.05\n",
            "Epoch [1/5], Step[725/1240], Loss: 6.9301, Perplexity: 1022.57\n",
            "Epoch [1/5], Step[750/1240], Loss: 6.5662, Perplexity: 710.66\n",
            "Epoch [1/5], Step[775/1240], Loss: 6.8167, Perplexity: 912.97\n",
            "Epoch [1/5], Step[800/1240], Loss: 7.0643, Perplexity: 1169.43\n",
            "Epoch [1/5], Step[825/1240], Loss: 6.7320, Perplexity: 838.79\n",
            "Epoch [1/5], Step[850/1240], Loss: 6.9070, Perplexity: 999.28\n",
            "Epoch [1/5], Step[875/1240], Loss: 6.7632, Perplexity: 865.45\n",
            "Epoch [1/5], Step[900/1240], Loss: 7.1564, Perplexity: 1282.26\n",
            "Epoch [1/5], Step[925/1240], Loss: 6.4863, Perplexity: 656.10\n",
            "Epoch [1/5], Step[950/1240], Loss: 7.0908, Perplexity: 1200.85\n",
            "Epoch [1/5], Step[975/1240], Loss: 6.8980, Perplexity: 990.25\n",
            "Epoch [1/5], Step[1000/1240], Loss: 6.7026, Perplexity: 814.54\n",
            "Epoch [1/5], Step[1025/1240], Loss: 7.0163, Perplexity: 1114.62\n",
            "Epoch [1/5], Step[1050/1240], Loss: 6.5845, Perplexity: 723.75\n",
            "Epoch [1/5], Step[1075/1240], Loss: 7.0314, Perplexity: 1131.63\n",
            "Epoch [1/5], Step[1100/1240], Loss: 6.8125, Perplexity: 909.12\n",
            "Epoch [1/5], Step[1125/1240], Loss: 6.7217, Perplexity: 830.25\n",
            "Epoch [1/5], Step[1150/1240], Loss: 6.6992, Perplexity: 811.79\n",
            "Epoch [1/5], Step[1175/1240], Loss: 6.6723, Perplexity: 790.19\n",
            "Epoch [1/5], Step[1200/1240], Loss: 6.5981, Perplexity: 733.73\n",
            "Epoch [1/5], Step[1225/1240], Loss: 6.7581, Perplexity: 861.04\n",
            "Epoch [2/5], Step[0/1240], Loss: 6.2787, Perplexity: 533.08\n",
            "Epoch [2/5], Step[25/1240], Loss: 6.1723, Perplexity: 479.28\n",
            "Epoch [2/5], Step[50/1240], Loss: 6.2814, Perplexity: 534.51\n",
            "Epoch [2/5], Step[75/1240], Loss: 6.0266, Perplexity: 414.30\n",
            "Epoch [2/5], Step[100/1240], Loss: 5.8918, Perplexity: 362.04\n",
            "Epoch [2/5], Step[125/1240], Loss: 5.9549, Perplexity: 385.64\n",
            "Epoch [2/5], Step[150/1240], Loss: 5.8486, Perplexity: 346.75\n",
            "Epoch [2/5], Step[175/1240], Loss: 5.9819, Perplexity: 396.20\n",
            "Epoch [2/5], Step[200/1240], Loss: 5.8832, Perplexity: 358.95\n",
            "Epoch [2/5], Step[225/1240], Loss: 5.8360, Perplexity: 342.41\n",
            "Epoch [2/5], Step[250/1240], Loss: 6.1532, Perplexity: 470.20\n",
            "Epoch [2/5], Step[275/1240], Loss: 5.6165, Perplexity: 274.92\n",
            "Epoch [2/5], Step[300/1240], Loss: 5.6600, Perplexity: 287.15\n",
            "Epoch [2/5], Step[325/1240], Loss: 5.7770, Perplexity: 322.78\n",
            "Epoch [2/5], Step[350/1240], Loss: 5.5435, Perplexity: 255.57\n",
            "Epoch [2/5], Step[375/1240], Loss: 5.7639, Perplexity: 318.58\n",
            "Epoch [2/5], Step[400/1240], Loss: 5.6801, Perplexity: 292.98\n",
            "Epoch [2/5], Step[425/1240], Loss: 5.4949, Perplexity: 243.44\n",
            "Epoch [2/5], Step[450/1240], Loss: 5.5589, Perplexity: 259.54\n",
            "Epoch [2/5], Step[475/1240], Loss: 5.5825, Perplexity: 265.73\n",
            "Epoch [2/5], Step[500/1240], Loss: 5.3141, Perplexity: 203.17\n",
            "Epoch [2/5], Step[525/1240], Loss: 5.5817, Perplexity: 265.54\n",
            "Epoch [2/5], Step[550/1240], Loss: 5.5289, Perplexity: 251.85\n",
            "Epoch [2/5], Step[575/1240], Loss: 5.4518, Perplexity: 233.18\n",
            "Epoch [2/5], Step[600/1240], Loss: 5.5836, Perplexity: 266.02\n",
            "Epoch [2/5], Step[625/1240], Loss: 5.5700, Perplexity: 262.43\n",
            "Epoch [2/5], Step[650/1240], Loss: 5.6120, Perplexity: 273.68\n",
            "Epoch [2/5], Step[675/1240], Loss: 5.5267, Perplexity: 251.31\n",
            "Epoch [2/5], Step[700/1240], Loss: 5.4401, Perplexity: 230.47\n",
            "Epoch [2/5], Step[725/1240], Loss: 5.4735, Perplexity: 238.30\n",
            "Epoch [2/5], Step[750/1240], Loss: 5.4870, Perplexity: 241.53\n",
            "Epoch [2/5], Step[775/1240], Loss: 5.5930, Perplexity: 268.54\n",
            "Epoch [2/5], Step[800/1240], Loss: 5.5310, Perplexity: 252.39\n",
            "Epoch [2/5], Step[825/1240], Loss: 5.4335, Perplexity: 228.96\n",
            "Epoch [2/5], Step[850/1240], Loss: 5.5105, Perplexity: 247.27\n",
            "Epoch [2/5], Step[875/1240], Loss: 5.3753, Perplexity: 216.00\n",
            "Epoch [2/5], Step[900/1240], Loss: 5.4939, Perplexity: 243.22\n",
            "Epoch [2/5], Step[925/1240], Loss: 5.3091, Perplexity: 202.16\n",
            "Epoch [2/5], Step[950/1240], Loss: 5.6266, Perplexity: 277.71\n",
            "Epoch [2/5], Step[975/1240], Loss: 5.4243, Perplexity: 226.86\n",
            "Epoch [2/5], Step[1000/1240], Loss: 5.3725, Perplexity: 215.40\n",
            "Epoch [2/5], Step[1025/1240], Loss: 5.4439, Perplexity: 231.34\n",
            "Epoch [2/5], Step[1050/1240], Loss: 5.3106, Perplexity: 202.46\n",
            "Epoch [2/5], Step[1075/1240], Loss: 5.3903, Perplexity: 219.26\n",
            "Epoch [2/5], Step[1100/1240], Loss: 5.4044, Perplexity: 222.38\n",
            "Epoch [2/5], Step[1125/1240], Loss: 5.3545, Perplexity: 211.55\n",
            "Epoch [2/5], Step[1150/1240], Loss: 5.3228, Perplexity: 204.97\n",
            "Epoch [2/5], Step[1175/1240], Loss: 5.5107, Perplexity: 247.33\n",
            "Epoch [2/5], Step[1200/1240], Loss: 5.3411, Perplexity: 208.74\n",
            "Epoch [2/5], Step[1225/1240], Loss: 5.4289, Perplexity: 227.91\n",
            "Epoch [3/5], Step[0/1240], Loss: 5.2605, Perplexity: 192.58\n",
            "Epoch [3/5], Step[25/1240], Loss: 5.1976, Perplexity: 180.84\n",
            "Epoch [3/5], Step[50/1240], Loss: 5.3654, Perplexity: 213.88\n",
            "Epoch [3/5], Step[75/1240], Loss: 4.9657, Perplexity: 143.40\n",
            "Epoch [3/5], Step[100/1240], Loss: 4.9199, Perplexity: 136.99\n",
            "Epoch [3/5], Step[125/1240], Loss: 4.8432, Perplexity: 126.87\n",
            "Epoch [3/5], Step[150/1240], Loss: 4.6925, Perplexity: 109.12\n",
            "Epoch [3/5], Step[175/1240], Loss: 4.7521, Perplexity: 115.82\n",
            "Epoch [3/5], Step[200/1240], Loss: 4.7018, Perplexity: 110.14\n",
            "Epoch [3/5], Step[225/1240], Loss: 4.5951, Perplexity: 98.99\n",
            "Epoch [3/5], Step[250/1240], Loss: 4.6166, Perplexity: 101.15\n",
            "Epoch [3/5], Step[275/1240], Loss: 4.5723, Perplexity: 96.77\n"
          ],
          "name": "stdout"
        }
      ]
    },
    {
      "cell_type": "code",
      "metadata": {
        "application/vnd.databricks.v1+cell": {
          "title": "",
          "showTitle": false,
          "inputWidgets": {},
          "nuid": "5e17d8ec-24ef-4a26-bf89-885126b57f11"
        },
        "colab": {
          "base_uri": "https://localhost:8080/"
        },
        "id": "Mi2IPQsYnsKL",
        "outputId": "f91a554a-d15f-4e67-a67a-3480c143d706"
      },
      "source": [
        "model.parameters, model.eval"
      ],
      "execution_count": 16,
      "outputs": [
        {
          "output_type": "execute_result",
          "data": {
            "text/plain": [
              "(<bound method Module.parameters of RNNLM(\n",
              "   (embed): Embedding(16923, 128)\n",
              "   (lstm): LSTM(128, 1024, batch_first=True)\n",
              "   (linear): Linear(in_features=1024, out_features=16923, bias=True)\n",
              " )>, <bound method Module.eval of RNNLM(\n",
              "   (embed): Embedding(16923, 128)\n",
              "   (lstm): LSTM(128, 1024, batch_first=True)\n",
              "   (linear): Linear(in_features=1024, out_features=16923, bias=True)\n",
              " )>)"
            ]
          },
          "metadata": {
            "tags": []
          },
          "execution_count": 16
        }
      ]
    },
    {
      "cell_type": "code",
      "metadata": {
        "application/vnd.databricks.v1+cell": {
          "title": "",
          "showTitle": false,
          "inputWidgets": {},
          "nuid": "feff4feb-7990-4311-a5e4-75ca5a190c8b"
        },
        "id": "lJmGn92mnsKM"
      },
      "source": [
        "def evaluate(data_source):\n",
        "    # Turn on evaluation mode which disables dropout.\n",
        "    model.eval()\n",
        "    total_loss = 0\n",
        "    ntokens = len(corpus.dictionary)\n",
        "    hidden = state = (torch.zeros(num_layers, batch_size, hidden_size).to(device),\n",
        "                 torch.zeros(num_layers, batch_size, hidden_size).to(device))\n",
        "    for i in range(0, data_source.size(0) - 1, seq_length):\n",
        "        data = data_source[:, i:i+seq_length].to(device)\n",
        "        targets = data_source[:, (i+1):(i+1)+seq_length].to(device)\n",
        "        output, hidden = model(data, hidden)\n",
        "        print(output.size())\n",
        "        output_flat = output.view(-1, ntokens)\n",
        "        print(output_flat.size(), targets.size())\n",
        "        total_loss += len(data) * criterion(output_flat, targets.reshape(-1)).data\n",
        "        print(total_loss)\n",
        "        hidden = detach(states)\n",
        "        \n",
        "    return total_loss.item()/ len(data_source)"
      ],
      "execution_count": 17,
      "outputs": []
    },
    {
      "cell_type": "code",
      "metadata": {
        "application/vnd.databricks.v1+cell": {
          "title": "",
          "showTitle": false,
          "inputWidgets": {},
          "nuid": "b79e2be7-42e0-4cab-8c66-b0a9b7ffc148"
        },
        "colab": {
          "base_uri": "https://localhost:8080/"
        },
        "id": "qUcX83q_nsKO",
        "outputId": "bbeb14a7-099e-4876-d68a-94d7619f0d5c"
      },
      "source": [
        "# Run on test data.\n",
        "test_loss = evaluate(test_tensors)\n",
        "print('=' * 89)\n",
        "print('loss {:5.2f} | perplexity {:8.2f}'.format(test_loss, np.exp(test_loss)))\n",
        "print('=' * 89)\n",
        "#loss.item(), ))"
      ],
      "execution_count": 18,
      "outputs": [
        {
          "output_type": "stream",
          "text": [
            "torch.Size([600, 16923])\n",
            "torch.Size([600, 16923]) torch.Size([20, 30])\n",
            "tensor(191.7822)\n",
            "=========================================================================================\n",
            "loss  9.59 | perplexity 14604.86\n",
            "=========================================================================================\n"
          ],
          "name": "stdout"
        }
      ]
    },
    {
      "cell_type": "code",
      "metadata": {
        "colab": {
          "base_uri": "https://localhost:8080/",
          "height": 232
        },
        "id": "XST030uw0NQS",
        "outputId": "e107efce-7271-49d7-837a-7fe17237016d"
      },
      "source": [
        "# Run on test data.\n",
        "test_loss = evaluate(val_tensors)\n",
        "print('=' * 89)\n",
        "print('loss {:5.2f} | perplexity {:8.2f}'.format(test_loss, np.exp(test_loss)))\n",
        "print('=' * 89)\n",
        "#loss.item(), ))"
      ],
      "execution_count": 1,
      "outputs": [
        {
          "output_type": "error",
          "ename": "NameError",
          "evalue": "ignored",
          "traceback": [
            "\u001b[0;31m---------------------------------------------------------------------------\u001b[0m",
            "\u001b[0;31mNameError\u001b[0m                                 Traceback (most recent call last)",
            "\u001b[0;32m<ipython-input-1-a38ddfadc768>\u001b[0m in \u001b[0;36m<module>\u001b[0;34m()\u001b[0m\n\u001b[1;32m      1\u001b[0m \u001b[0;31m# Run on test data.\u001b[0m\u001b[0;34m\u001b[0m\u001b[0;34m\u001b[0m\u001b[0;34m\u001b[0m\u001b[0m\n\u001b[0;32m----> 2\u001b[0;31m \u001b[0mtest_loss\u001b[0m \u001b[0;34m=\u001b[0m \u001b[0mevaluate\u001b[0m\u001b[0;34m(\u001b[0m\u001b[0mval_tensors\u001b[0m\u001b[0;34m)\u001b[0m\u001b[0;34m\u001b[0m\u001b[0;34m\u001b[0m\u001b[0m\n\u001b[0m\u001b[1;32m      3\u001b[0m \u001b[0mprint\u001b[0m\u001b[0;34m(\u001b[0m\u001b[0;34m'='\u001b[0m \u001b[0;34m*\u001b[0m \u001b[0;36m89\u001b[0m\u001b[0;34m)\u001b[0m\u001b[0;34m\u001b[0m\u001b[0;34m\u001b[0m\u001b[0m\n\u001b[1;32m      4\u001b[0m \u001b[0mprint\u001b[0m\u001b[0;34m(\u001b[0m\u001b[0;34m'loss {:5.2f} | perplexity {:8.2f}'\u001b[0m\u001b[0;34m.\u001b[0m\u001b[0mformat\u001b[0m\u001b[0;34m(\u001b[0m\u001b[0mtest_loss\u001b[0m\u001b[0;34m,\u001b[0m \u001b[0mnp\u001b[0m\u001b[0;34m.\u001b[0m\u001b[0mexp\u001b[0m\u001b[0;34m(\u001b[0m\u001b[0mtest_loss\u001b[0m\u001b[0;34m)\u001b[0m\u001b[0;34m)\u001b[0m\u001b[0;34m)\u001b[0m\u001b[0;34m\u001b[0m\u001b[0;34m\u001b[0m\u001b[0m\n\u001b[1;32m      5\u001b[0m \u001b[0mprint\u001b[0m\u001b[0;34m(\u001b[0m\u001b[0;34m'='\u001b[0m \u001b[0;34m*\u001b[0m \u001b[0;36m89\u001b[0m\u001b[0;34m)\u001b[0m\u001b[0;34m\u001b[0m\u001b[0;34m\u001b[0m\u001b[0m\n",
            "\u001b[0;31mNameError\u001b[0m: name 'evaluate' is not defined"
          ]
        }
      ]
    },
    {
      "cell_type": "code",
      "metadata": {
        "application/vnd.databricks.v1+cell": {
          "title": "",
          "showTitle": false,
          "inputWidgets": {},
          "nuid": "afff6962-8e7c-4ca9-bc65-ea523b02fd63"
        },
        "id": "DV66lRmznsKP",
        "outputId": "5edeab1c-9560-4d44-8be3-2f0fe43fc60e"
      },
      "source": [
        ""
      ],
      "execution_count": null,
      "outputs": [
        {
          "output_type": "display_data",
          "data": {
            "text/html": [
              "<style scoped>\n",
              "  .ansiout {\n",
              "    display: block;\n",
              "    unicode-bidi: embed;\n",
              "    white-space: pre-wrap;\n",
              "    word-wrap: break-word;\n",
              "    word-break: break-all;\n",
              "    font-family: \"Source Code Pro\", \"Menlo\", monospace;;\n",
              "    font-size: 13px;\n",
              "    color: #555;\n",
              "    margin-left: 4px;\n",
              "    line-height: 19px;\n",
              "  }\n",
              "</style>\n",
              "<div class=\"ansiout\"></div>"
            ]
          },
          "metadata": {
            "tags": [],
            "application/vnd.databricks.v1+output": {
              "datasetInfos": [],
              "data": "<div class=\"ansiout\"></div>",
              "removedWidgets": [],
              "addedWidgets": {},
              "type": "html",
              "arguments": {}
            }
          }
        }
      ]
    }
  ]
}