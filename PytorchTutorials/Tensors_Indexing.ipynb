{
  "nbformat": 4,
  "nbformat_minor": 0,
  "metadata": {
    "colab": {
      "name": "Untitled8.ipynb",
      "provenance": [],
      "authorship_tag": "ABX9TyONnhq+2w1/pwHIQBJSBzPa",
      "include_colab_link": true
    },
    "kernelspec": {
      "name": "python3",
      "display_name": "Python 3"
    }
  },
  "cells": [
    {
      "cell_type": "markdown",
      "metadata": {
        "id": "view-in-github",
        "colab_type": "text"
      },
      "source": [
        "<a href=\"https://colab.research.google.com/github/sum-coderepo/DeepLearning-Pytorch/blob/master/PytorchTutorials/Tensors_Indexing.ipynb\" target=\"_parent\"><img src=\"https://colab.research.google.com/assets/colab-badge.svg\" alt=\"Open In Colab\"/></a>"
      ]
    },
    {
      "cell_type": "code",
      "metadata": {
        "id": "tqhy99CsXv8-"
      },
      "source": [
        "import torch\r\n",
        "device = \"cuda\" if torch.cuda.is_available() else \"cpu\""
      ],
      "execution_count": 2,
      "outputs": []
    },
    {
      "cell_type": "code",
      "metadata": {
        "id": "BsEW1tOQY24q"
      },
      "source": [
        "my_tensors = torch.tensor([[1,2,3], [4,5,6]], dtype=torch.float32,device = device , requires_grad= True)"
      ],
      "execution_count": 4,
      "outputs": []
    },
    {
      "cell_type": "code",
      "metadata": {
        "colab": {
          "base_uri": "https://localhost:8080/"
        },
        "id": "5aJg9RrNZZ3U",
        "outputId": "dc30e089-ceb9-43ad-f98b-df909c37b435"
      },
      "source": [
        "my_tensors.device, my_tensors.requires_grad, my_tensors.shape"
      ],
      "execution_count": 9,
      "outputs": [
        {
          "output_type": "execute_result",
          "data": {
            "text/plain": [
              "(device(type='cpu'), True, torch.Size([2, 3]))"
            ]
          },
          "metadata": {
            "tags": []
          },
          "execution_count": 9
        }
      ]
    },
    {
      "cell_type": "markdown",
      "metadata": {
        "id": "XEZiEbL7bViK"
      },
      "source": [
        "# Other Initialization Mthods"
      ]
    },
    {
      "cell_type": "code",
      "metadata": {
        "colab": {
          "base_uri": "https://localhost:8080/"
        },
        "id": "1pE5eakOZfmV",
        "outputId": "f4cc3b57-a9ff-4951-a887-386bddae0976"
      },
      "source": [
        "x = torch.empty(size = (3,3))\r\n",
        "print(x)"
      ],
      "execution_count": 12,
      "outputs": [
        {
          "output_type": "stream",
          "text": [
            "tensor([[7.0176e-35, 0.0000e+00, 1.4013e-45],\n",
            "        [0.0000e+00,        nan, 0.0000e+00],\n",
            "        [1.1286e+27, 1.7743e+28, 2.0535e-19]])\n"
          ],
          "name": "stdout"
        }
      ]
    },
    {
      "cell_type": "code",
      "metadata": {
        "id": "dLPyxoYN6bWK",
        "outputId": "01e36156-52cb-488b-d8c8-7e851abc7988",
        "colab": {
          "base_uri": "https://localhost:8080/"
        }
      },
      "source": [
        "x = torch.zeros(size = (3,3))\r\n",
        "print(x)"
      ],
      "execution_count": 13,
      "outputs": [
        {
          "output_type": "stream",
          "text": [
            "tensor([[0., 0., 0.],\n",
            "        [0., 0., 0.],\n",
            "        [0., 0., 0.]])\n"
          ],
          "name": "stdout"
        }
      ]
    },
    {
      "cell_type": "code",
      "metadata": {
        "id": "LNNrRtVK6ceR",
        "outputId": "22bd8293-d9b7-4ea5-b9fa-6af369ae6937",
        "colab": {
          "base_uri": "https://localhost:8080/"
        }
      },
      "source": [
        "x = torch.rand(size = (3,3))\r\n",
        "print(x)"
      ],
      "execution_count": 14,
      "outputs": [
        {
          "output_type": "stream",
          "text": [
            "tensor([[0.8413, 0.7136, 0.3299],\n",
            "        [0.6356, 0.4087, 0.1981],\n",
            "        [0.0897, 0.2475, 0.6699]])\n"
          ],
          "name": "stdout"
        }
      ]
    },
    {
      "cell_type": "code",
      "metadata": {
        "id": "PJ0MQT157WoN",
        "outputId": "c46b14c6-f484-449f-e68a-ff9ac25a86e3",
        "colab": {
          "base_uri": "https://localhost:8080/"
        }
      },
      "source": [
        "x= torch.ones(size = (3,3))\r\n",
        "print(x)"
      ],
      "execution_count": 15,
      "outputs": [
        {
          "output_type": "stream",
          "text": [
            "tensor([[1., 1., 1.],\n",
            "        [1., 1., 1.],\n",
            "        [1., 1., 1.]])\n"
          ],
          "name": "stdout"
        }
      ]
    },
    {
      "cell_type": "code",
      "metadata": {
        "id": "Ax6of-aV8y0y",
        "outputId": "ab594cf5-a582-4fb0-bd82-7f670a9a7b72",
        "colab": {
          "base_uri": "https://localhost:8080/"
        }
      },
      "source": [
        "#identity Matrix\r\n",
        "x = torch.eye(5,5)\r\n",
        "print(x)"
      ],
      "execution_count": 17,
      "outputs": [
        {
          "output_type": "stream",
          "text": [
            "tensor([[1., 0., 0., 0., 0.],\n",
            "        [0., 1., 0., 0., 0.],\n",
            "        [0., 0., 1., 0., 0.],\n",
            "        [0., 0., 0., 1., 0.],\n",
            "        [0., 0., 0., 0., 1.]])\n"
          ],
          "name": "stdout"
        }
      ]
    },
    {
      "cell_type": "code",
      "metadata": {
        "id": "xC8XRDN58-tx",
        "outputId": "10b006f7-aa74-46d8-8871-1fa0729165bb",
        "colab": {
          "base_uri": "https://localhost:8080/"
        }
      },
      "source": [
        "x = torch.arange(start = 0, end = 1, step = 10)\r\n",
        "print(x)"
      ],
      "execution_count": 18,
      "outputs": [
        {
          "output_type": "stream",
          "text": [
            "tensor([0])\n"
          ],
          "name": "stdout"
        }
      ]
    },
    {
      "cell_type": "code",
      "metadata": {
        "id": "vm9VZIYo9NFR",
        "outputId": "279eaa65-3712-42a7-ef03-3e79c275b5f5",
        "colab": {
          "base_uri": "https://localhost:8080/"
        }
      },
      "source": [
        "x = torch.linspace(start = 0.1, end = 1, steps = 10)\r\n",
        "print(x)"
      ],
      "execution_count": 20,
      "outputs": [
        {
          "output_type": "stream",
          "text": [
            "tensor([0.1000, 0.2000, 0.3000, 0.4000, 0.5000, 0.6000, 0.7000, 0.8000, 0.9000,\n",
            "        1.0000])\n"
          ],
          "name": "stdout"
        }
      ]
    },
    {
      "cell_type": "code",
      "metadata": {
        "id": "J-_v4A-g93vS",
        "outputId": "7347b47d-0ce6-4efa-cae0-d18e7e49c995",
        "colab": {
          "base_uri": "https://localhost:8080/"
        }
      },
      "source": [
        "x = torch.empty(size = (1,5)).normal_(mean = 0, std = 1)\r\n",
        "print(x)"
      ],
      "execution_count": 21,
      "outputs": [
        {
          "output_type": "stream",
          "text": [
            "tensor([[-1.5409,  0.9917, -0.0016,  1.4341,  0.7362]])\n"
          ],
          "name": "stdout"
        }
      ]
    },
    {
      "cell_type": "code",
      "metadata": {
        "id": "FG1h95Fi-bCy",
        "outputId": "f15b7605-6092-46cb-b0b1-dce21f140366",
        "colab": {
          "base_uri": "https://localhost:8080/"
        }
      },
      "source": [
        "x = torch.empty(size = (1,5)).uniform_( 0,  1)\r\n",
        "print(x)"
      ],
      "execution_count": 23,
      "outputs": [
        {
          "output_type": "stream",
          "text": [
            "tensor([[0.6603, 0.2376, 0.9131, 0.2137, 0.4551]])\n"
          ],
          "name": "stdout"
        }
      ]
    },
    {
      "cell_type": "code",
      "metadata": {
        "id": "cjGcMtN9-mhi",
        "outputId": "2caa8b5e-5cd7-4d5d-a413-d2a0897a3ac3",
        "colab": {
          "base_uri": "https://localhost:8080/"
        }
      },
      "source": [
        "x = torch.diag(torch.ones(3))\r\n",
        "print(x)"
      ],
      "execution_count": 24,
      "outputs": [
        {
          "output_type": "stream",
          "text": [
            "tensor([[1., 0., 0.],\n",
            "        [0., 1., 0.],\n",
            "        [0., 0., 1.]])\n"
          ],
          "name": "stdout"
        }
      ]
    },
    {
      "cell_type": "code",
      "metadata": {
        "id": "ho1devc1-w_R",
        "outputId": "bc5aa2df-38fa-4791-ceeb-8128481a4761",
        "colab": {
          "base_uri": "https://localhost:8080/"
        }
      },
      "source": [
        "tensor = torch.arange(4)\r\n",
        "print(tensor.bool())"
      ],
      "execution_count": 25,
      "outputs": [
        {
          "output_type": "stream",
          "text": [
            "tensor([False,  True,  True,  True])\n"
          ],
          "name": "stdout"
        }
      ]
    },
    {
      "cell_type": "code",
      "metadata": {
        "id": "DrP4X6In_H-C",
        "outputId": "b9375cb8-438f-4714-9637-02261bce4f68",
        "colab": {
          "base_uri": "https://localhost:8080/"
        }
      },
      "source": [
        "print(tensor.float())\r\n",
        "print(tensor.short())\r\n",
        "print(tensor.half())\r\n",
        "print(tensor.double())\r\n",
        "print(tensor.half())"
      ],
      "execution_count": 31,
      "outputs": [
        {
          "output_type": "stream",
          "text": [
            "tensor([0., 1., 2., 3.])\n",
            "tensor([0, 1, 2, 3], dtype=torch.int16)\n",
            "tensor([0., 1., 2., 3.], dtype=torch.float16)\n",
            "tensor([0., 1., 2., 3.], dtype=torch.float64)\n",
            "tensor([0., 1., 2., 3.], dtype=torch.float16)\n"
          ],
          "name": "stdout"
        }
      ]
    },
    {
      "cell_type": "markdown",
      "metadata": {
        "id": "Ourtszzn_uAl"
      },
      "source": [
        "Convert to Tensor from Numpy Array"
      ]
    },
    {
      "cell_type": "code",
      "metadata": {
        "id": "wqU8yHgB_d1i"
      },
      "source": [
        "import numpy as np"
      ],
      "execution_count": 32,
      "outputs": []
    },
    {
      "cell_type": "code",
      "metadata": {
        "id": "h7Pfht1n_spo",
        "outputId": "132830be-cee4-4700-91f7-f847a9e9b1b8",
        "colab": {
          "base_uri": "https://localhost:8080/"
        }
      },
      "source": [
        "np_array = np.zeros((5,5))\r\n",
        "print(np_array)\r\n",
        "tensor = torch.from_numpy(np_array)"
      ],
      "execution_count": 38,
      "outputs": [
        {
          "output_type": "stream",
          "text": [
            "[[0. 0. 0. 0. 0.]\n",
            " [0. 0. 0. 0. 0.]\n",
            " [0. 0. 0. 0. 0.]\n",
            " [0. 0. 0. 0. 0.]\n",
            " [0. 0. 0. 0. 0.]]\n"
          ],
          "name": "stdout"
        }
      ]
    },
    {
      "cell_type": "markdown",
      "metadata": {
        "id": "gMNJbJlzACjP"
      },
      "source": [
        "Convert to Numpy Arrar from tensors"
      ]
    },
    {
      "cell_type": "code",
      "metadata": {
        "id": "u0orxUYwAMEF",
        "outputId": "04d9077e-cf71-47b5-e563-d8af579818f7",
        "colab": {
          "base_uri": "https://localhost:8080/"
        }
      },
      "source": [
        "numpy_arr_bk  = tensor.numpy()\r\n",
        "print(numpy_arr_bk)"
      ],
      "execution_count": 37,
      "outputs": [
        {
          "output_type": "stream",
          "text": [
            "[0 1 2 3]\n"
          ],
          "name": "stdout"
        }
      ]
    },
    {
      "cell_type": "markdown",
      "metadata": {
        "id": "PwK6Gj6lAilx"
      },
      "source": [
        "## Math and Comparison"
      ]
    },
    {
      "cell_type": "code",
      "metadata": {
        "id": "YHFc35p1AYlz"
      },
      "source": [
        ""
      ],
      "execution_count": null,
      "outputs": []
    }
  ]
}