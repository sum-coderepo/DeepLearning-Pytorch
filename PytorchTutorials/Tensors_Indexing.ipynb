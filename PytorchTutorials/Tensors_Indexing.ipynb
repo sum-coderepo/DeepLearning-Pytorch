{
  "nbformat": 4,
  "nbformat_minor": 0,
  "metadata": {
    "colab": {
      "name": "Untitled8.ipynb",
      "provenance": [],
      "authorship_tag": "ABX9TyMSKatslv1e5ZVCHlVGeHuB",
      "include_colab_link": true
    },
    "kernelspec": {
      "name": "python3",
      "display_name": "Python 3"
    }
  },
  "cells": [
    {
      "cell_type": "markdown",
      "metadata": {
        "id": "view-in-github",
        "colab_type": "text"
      },
      "source": [
        "<a href=\"https://colab.research.google.com/github/sum-coderepo/DeepLearning-Pytorch/blob/master/PytorchTutorials/Tensors_Indexing.ipynb\" target=\"_parent\"><img src=\"https://colab.research.google.com/assets/colab-badge.svg\" alt=\"Open In Colab\"/></a>"
      ]
    },
    {
      "cell_type": "code",
      "metadata": {
        "id": "tqhy99CsXv8-"
      },
      "source": [
        "import torch\r\n",
        "device = \"cuda\" if torch.cuda.is_available() else \"cpu\""
      ],
      "execution_count": 2,
      "outputs": []
    },
    {
      "cell_type": "code",
      "metadata": {
        "id": "BsEW1tOQY24q"
      },
      "source": [
        "my_tensors = torch.tensor([[1,2,3], [4,5,6]], dtype=torch.float32,device = device , requires_grad= True)"
      ],
      "execution_count": 4,
      "outputs": []
    },
    {
      "cell_type": "code",
      "metadata": {
        "colab": {
          "base_uri": "https://localhost:8080/"
        },
        "id": "5aJg9RrNZZ3U",
        "outputId": "dc30e089-ceb9-43ad-f98b-df909c37b435"
      },
      "source": [
        "my_tensors.device, my_tensors.requires_grad, my_tensors.shape"
      ],
      "execution_count": 9,
      "outputs": [
        {
          "output_type": "execute_result",
          "data": {
            "text/plain": [
              "(device(type='cpu'), True, torch.Size([2, 3]))"
            ]
          },
          "metadata": {
            "tags": []
          },
          "execution_count": 9
        }
      ]
    },
    {
      "cell_type": "markdown",
      "metadata": {
        "id": "XEZiEbL7bViK"
      },
      "source": [
        "# Other Initialization Mthods"
      ]
    },
    {
      "cell_type": "code",
      "metadata": {
        "colab": {
          "base_uri": "https://localhost:8080/"
        },
        "id": "1pE5eakOZfmV",
        "outputId": "f4cc3b57-a9ff-4951-a887-386bddae0976"
      },
      "source": [
        "x = torch.empty(size = (3,3))\r\n",
        "print(x)"
      ],
      "execution_count": 12,
      "outputs": [
        {
          "output_type": "stream",
          "text": [
            "tensor([[7.0176e-35, 0.0000e+00, 1.4013e-45],\n",
            "        [0.0000e+00,        nan, 0.0000e+00],\n",
            "        [1.1286e+27, 1.7743e+28, 2.0535e-19]])\n"
          ],
          "name": "stdout"
        }
      ]
    },
    {
      "cell_type": "code",
      "metadata": {
        "colab": {
          "base_uri": "https://localhost:8080/"
        },
        "id": "dLPyxoYN6bWK",
        "outputId": "01e36156-52cb-488b-d8c8-7e851abc7988"
      },
      "source": [
        "x = torch.zeros(size = (3,3))\r\n",
        "print(x)"
      ],
      "execution_count": 13,
      "outputs": [
        {
          "output_type": "stream",
          "text": [
            "tensor([[0., 0., 0.],\n",
            "        [0., 0., 0.],\n",
            "        [0., 0., 0.]])\n"
          ],
          "name": "stdout"
        }
      ]
    },
    {
      "cell_type": "code",
      "metadata": {
        "colab": {
          "base_uri": "https://localhost:8080/"
        },
        "id": "LNNrRtVK6ceR",
        "outputId": "22bd8293-d9b7-4ea5-b9fa-6af369ae6937"
      },
      "source": [
        "x = torch.rand(size = (3,3))\r\n",
        "print(x)"
      ],
      "execution_count": 14,
      "outputs": [
        {
          "output_type": "stream",
          "text": [
            "tensor([[0.8413, 0.7136, 0.3299],\n",
            "        [0.6356, 0.4087, 0.1981],\n",
            "        [0.0897, 0.2475, 0.6699]])\n"
          ],
          "name": "stdout"
        }
      ]
    },
    {
      "cell_type": "code",
      "metadata": {
        "colab": {
          "base_uri": "https://localhost:8080/"
        },
        "id": "PJ0MQT157WoN",
        "outputId": "c46b14c6-f484-449f-e68a-ff9ac25a86e3"
      },
      "source": [
        "x= torch.ones(size = (3,3))\r\n",
        "print(x)"
      ],
      "execution_count": 15,
      "outputs": [
        {
          "output_type": "stream",
          "text": [
            "tensor([[1., 1., 1.],\n",
            "        [1., 1., 1.],\n",
            "        [1., 1., 1.]])\n"
          ],
          "name": "stdout"
        }
      ]
    },
    {
      "cell_type": "code",
      "metadata": {
        "colab": {
          "base_uri": "https://localhost:8080/"
        },
        "id": "Ax6of-aV8y0y",
        "outputId": "ab594cf5-a582-4fb0-bd82-7f670a9a7b72"
      },
      "source": [
        "#identity Matrix\r\n",
        "x = torch.eye(5,5)\r\n",
        "print(x)"
      ],
      "execution_count": 17,
      "outputs": [
        {
          "output_type": "stream",
          "text": [
            "tensor([[1., 0., 0., 0., 0.],\n",
            "        [0., 1., 0., 0., 0.],\n",
            "        [0., 0., 1., 0., 0.],\n",
            "        [0., 0., 0., 1., 0.],\n",
            "        [0., 0., 0., 0., 1.]])\n"
          ],
          "name": "stdout"
        }
      ]
    },
    {
      "cell_type": "code",
      "metadata": {
        "colab": {
          "base_uri": "https://localhost:8080/"
        },
        "id": "xC8XRDN58-tx",
        "outputId": "10b006f7-aa74-46d8-8871-1fa0729165bb"
      },
      "source": [
        "x = torch.arange(start = 0, end = 1, step = 10)\r\n",
        "print(x)"
      ],
      "execution_count": 18,
      "outputs": [
        {
          "output_type": "stream",
          "text": [
            "tensor([0])\n"
          ],
          "name": "stdout"
        }
      ]
    },
    {
      "cell_type": "code",
      "metadata": {
        "colab": {
          "base_uri": "https://localhost:8080/"
        },
        "id": "vm9VZIYo9NFR",
        "outputId": "279eaa65-3712-42a7-ef03-3e79c275b5f5"
      },
      "source": [
        "x = torch.linspace(start = 0.1, end = 1, steps = 10)\r\n",
        "print(x)"
      ],
      "execution_count": 20,
      "outputs": [
        {
          "output_type": "stream",
          "text": [
            "tensor([0.1000, 0.2000, 0.3000, 0.4000, 0.5000, 0.6000, 0.7000, 0.8000, 0.9000,\n",
            "        1.0000])\n"
          ],
          "name": "stdout"
        }
      ]
    },
    {
      "cell_type": "code",
      "metadata": {
        "colab": {
          "base_uri": "https://localhost:8080/"
        },
        "id": "J-_v4A-g93vS",
        "outputId": "7347b47d-0ce6-4efa-cae0-d18e7e49c995"
      },
      "source": [
        "x = torch.empty(size = (1,5)).normal_(mean = 0, std = 1)\r\n",
        "print(x)"
      ],
      "execution_count": 21,
      "outputs": [
        {
          "output_type": "stream",
          "text": [
            "tensor([[-1.5409,  0.9917, -0.0016,  1.4341,  0.7362]])\n"
          ],
          "name": "stdout"
        }
      ]
    },
    {
      "cell_type": "code",
      "metadata": {
        "colab": {
          "base_uri": "https://localhost:8080/"
        },
        "id": "FG1h95Fi-bCy",
        "outputId": "f15b7605-6092-46cb-b0b1-dce21f140366"
      },
      "source": [
        "x = torch.empty(size = (1,5)).uniform_( 0,  1)\r\n",
        "print(x)"
      ],
      "execution_count": 23,
      "outputs": [
        {
          "output_type": "stream",
          "text": [
            "tensor([[0.6603, 0.2376, 0.9131, 0.2137, 0.4551]])\n"
          ],
          "name": "stdout"
        }
      ]
    },
    {
      "cell_type": "code",
      "metadata": {
        "colab": {
          "base_uri": "https://localhost:8080/"
        },
        "id": "cjGcMtN9-mhi",
        "outputId": "2caa8b5e-5cd7-4d5d-a413-d2a0897a3ac3"
      },
      "source": [
        "x = torch.diag(torch.ones(3))\r\n",
        "print(x)"
      ],
      "execution_count": 24,
      "outputs": [
        {
          "output_type": "stream",
          "text": [
            "tensor([[1., 0., 0.],\n",
            "        [0., 1., 0.],\n",
            "        [0., 0., 1.]])\n"
          ],
          "name": "stdout"
        }
      ]
    },
    {
      "cell_type": "code",
      "metadata": {
        "colab": {
          "base_uri": "https://localhost:8080/"
        },
        "id": "ho1devc1-w_R",
        "outputId": "bc5aa2df-38fa-4791-ceeb-8128481a4761"
      },
      "source": [
        "tensor = torch.arange(4)\r\n",
        "print(tensor.bool())"
      ],
      "execution_count": 25,
      "outputs": [
        {
          "output_type": "stream",
          "text": [
            "tensor([False,  True,  True,  True])\n"
          ],
          "name": "stdout"
        }
      ]
    },
    {
      "cell_type": "code",
      "metadata": {
        "colab": {
          "base_uri": "https://localhost:8080/"
        },
        "id": "DrP4X6In_H-C",
        "outputId": "b9375cb8-438f-4714-9637-02261bce4f68"
      },
      "source": [
        "print(tensor.float())\r\n",
        "print(tensor.short())\r\n",
        "print(tensor.half())\r\n",
        "print(tensor.double())\r\n",
        "print(tensor.half())"
      ],
      "execution_count": 31,
      "outputs": [
        {
          "output_type": "stream",
          "text": [
            "tensor([0., 1., 2., 3.])\n",
            "tensor([0, 1, 2, 3], dtype=torch.int16)\n",
            "tensor([0., 1., 2., 3.], dtype=torch.float16)\n",
            "tensor([0., 1., 2., 3.], dtype=torch.float64)\n",
            "tensor([0., 1., 2., 3.], dtype=torch.float16)\n"
          ],
          "name": "stdout"
        }
      ]
    },
    {
      "cell_type": "markdown",
      "metadata": {
        "id": "Ourtszzn_uAl"
      },
      "source": [
        "Convert to Tensor from Numpy Array"
      ]
    },
    {
      "cell_type": "code",
      "metadata": {
        "id": "wqU8yHgB_d1i"
      },
      "source": [
        "import numpy as np"
      ],
      "execution_count": 32,
      "outputs": []
    },
    {
      "cell_type": "code",
      "metadata": {
        "colab": {
          "base_uri": "https://localhost:8080/"
        },
        "id": "h7Pfht1n_spo",
        "outputId": "132830be-cee4-4700-91f7-f847a9e9b1b8"
      },
      "source": [
        "np_array = np.zeros((5,5))\r\n",
        "print(np_array)\r\n",
        "tensor = torch.from_numpy(np_array)"
      ],
      "execution_count": 38,
      "outputs": [
        {
          "output_type": "stream",
          "text": [
            "[[0. 0. 0. 0. 0.]\n",
            " [0. 0. 0. 0. 0.]\n",
            " [0. 0. 0. 0. 0.]\n",
            " [0. 0. 0. 0. 0.]\n",
            " [0. 0. 0. 0. 0.]]\n"
          ],
          "name": "stdout"
        }
      ]
    },
    {
      "cell_type": "markdown",
      "metadata": {
        "id": "gMNJbJlzACjP"
      },
      "source": [
        "Convert to Numpy Arrar from tensors"
      ]
    },
    {
      "cell_type": "code",
      "metadata": {
        "colab": {
          "base_uri": "https://localhost:8080/"
        },
        "id": "u0orxUYwAMEF",
        "outputId": "04d9077e-cf71-47b5-e563-d8af579818f7"
      },
      "source": [
        "numpy_arr_bk  = tensor.numpy()\r\n",
        "print(numpy_arr_bk)"
      ],
      "execution_count": 37,
      "outputs": [
        {
          "output_type": "stream",
          "text": [
            "[0 1 2 3]\n"
          ],
          "name": "stdout"
        }
      ]
    },
    {
      "cell_type": "markdown",
      "metadata": {
        "id": "PwK6Gj6lAilx"
      },
      "source": [
        "## Math and Comparison"
      ]
    },
    {
      "cell_type": "code",
      "metadata": {
        "id": "YHFc35p1AYlz"
      },
      "source": [
        "x = torch.tensor([1, 2, 3])\r\n",
        "y = torch.tensor([9, 8 , 7])"
      ],
      "execution_count": 39,
      "outputs": []
    },
    {
      "cell_type": "code",
      "metadata": {
        "id": "VqVqkTBiEPJv"
      },
      "source": [
        "# Addition\r\n",
        "z1 = torch.empty(3)\r\n",
        "torch.add(x,y, out = z1)\r\n",
        "z2 = torch.add(x,y)\r\n",
        "z = x+y"
      ],
      "execution_count": 40,
      "outputs": []
    },
    {
      "cell_type": "code",
      "metadata": {
        "id": "jVJ8rh2OErDT",
        "outputId": "1ca9c590-987c-4c80-d862-f29c3dae96fd",
        "colab": {
          "base_uri": "https://localhost:8080/"
        }
      },
      "source": [
        "# Substraction\r\n",
        "z = x-y\r\n",
        "print(z)"
      ],
      "execution_count": 41,
      "outputs": [
        {
          "output_type": "stream",
          "text": [
            "tensor([-8, -6, -4])\n"
          ],
          "name": "stdout"
        }
      ]
    },
    {
      "cell_type": "code",
      "metadata": {
        "id": "gFSxv5FlEvzT",
        "outputId": "c88e45ee-ecb3-45cd-ec3f-200f651ce532",
        "colab": {
          "base_uri": "https://localhost:8080/"
        }
      },
      "source": [
        "# Division\r\n",
        "z = torch.true_divide(x,y)\r\n",
        "print(z)"
      ],
      "execution_count": 42,
      "outputs": [
        {
          "output_type": "stream",
          "text": [
            "tensor([0.1111, 0.2500, 0.4286])\n"
          ],
          "name": "stdout"
        }
      ]
    },
    {
      "cell_type": "code",
      "metadata": {
        "id": "Wv63CpEmGcG6",
        "outputId": "d9beebe1-42e5-4026-a4a0-5b0378d3c4c0",
        "colab": {
          "base_uri": "https://localhost:8080/"
        }
      },
      "source": [
        "# Inplace operations\r\n",
        "t = torch.zeros(3)\r\n",
        "t.add_(x)\r\n",
        "print(t)"
      ],
      "execution_count": 46,
      "outputs": [
        {
          "output_type": "stream",
          "text": [
            "tensor([1., 2., 3.])\n"
          ],
          "name": "stdout"
        }
      ]
    },
    {
      "cell_type": "code",
      "metadata": {
        "id": "ugK7xjzVGqD7",
        "outputId": "b9a7f1df-9d06-486a-d53b-3be08528234a",
        "colab": {
          "base_uri": "https://localhost:8080/"
        }
      },
      "source": [
        "t += x\r\n",
        "print(t)"
      ],
      "execution_count": 47,
      "outputs": [
        {
          "output_type": "stream",
          "text": [
            "tensor([2., 4., 6.])\n"
          ],
          "name": "stdout"
        }
      ]
    },
    {
      "cell_type": "code",
      "metadata": {
        "id": "Lx00KeLcGtRA",
        "outputId": "e2d22593-ad73-4565-9ee2-0e0311f173b9",
        "colab": {
          "base_uri": "https://localhost:8080/"
        }
      },
      "source": [
        "# Exponentiation\r\n",
        "z = x.pow(2)\r\n",
        "print(z)\r\n",
        "z = x ** 2\r\n",
        "print(z)"
      ],
      "execution_count": 49,
      "outputs": [
        {
          "output_type": "stream",
          "text": [
            "tensor([1, 4, 9])\n",
            "tensor([1, 4, 9])\n"
          ],
          "name": "stdout"
        }
      ]
    },
    {
      "cell_type": "code",
      "metadata": {
        "id": "PX8XlMRwGvFN",
        "outputId": "8b37dede-329e-4384-b8a7-8acaca7e7c7f",
        "colab": {
          "base_uri": "https://localhost:8080/"
        }
      },
      "source": [
        "# Comparison\r\n",
        "z = x > 0\r\n",
        "z"
      ],
      "execution_count": 51,
      "outputs": [
        {
          "output_type": "execute_result",
          "data": {
            "text/plain": [
              "tensor([True, True, True])"
            ]
          },
          "metadata": {
            "tags": []
          },
          "execution_count": 51
        }
      ]
    },
    {
      "cell_type": "code",
      "metadata": {
        "id": "v8cswlvrIScJ",
        "outputId": "9aef14f3-3ce8-400e-e776-5d11d49caefb",
        "colab": {
          "base_uri": "https://localhost:8080/"
        }
      },
      "source": [
        "# Matrix Multiplication\r\n",
        "x1 = torch.rand((2,5))\r\n",
        "x2 = torch.rand((5,3))\r\n",
        "x = torch.mm(x1, x2)\r\n",
        "x3 = x1.mm(x2)\r\n",
        "print(x)"
      ],
      "execution_count": 53,
      "outputs": [
        {
          "output_type": "stream",
          "text": [
            "tensor([[1.1999, 1.3216, 1.4146],\n",
            "        [1.1022, 1.4130, 1.1960]])\n"
          ],
          "name": "stdout"
        }
      ]
    },
    {
      "cell_type": "code",
      "metadata": {
        "id": "7PFYweH0IqPk",
        "outputId": "19bb72f4-5611-4a1d-ad2a-7ee0dee6968a",
        "colab": {
          "base_uri": "https://localhost:8080/"
        }
      },
      "source": [
        "# Matrix Exponentaition\r\n",
        "matrix_exp = torch.rand(5,5)\r\n",
        "print(matrix_exp.matrix_power(3))"
      ],
      "execution_count": 54,
      "outputs": [
        {
          "output_type": "stream",
          "text": [
            "tensor([[3.0167, 2.1203, 3.0362, 2.2370, 3.4211],\n",
            "        [5.4170, 3.8535, 5.4770, 3.9830, 6.2188],\n",
            "        [4.7626, 3.3549, 4.8176, 3.5088, 5.4250],\n",
            "        [6.2555, 4.5024, 6.4147, 4.6993, 7.2032],\n",
            "        [5.1443, 3.5926, 5.1648, 3.7704, 5.8858]])\n"
          ],
          "name": "stdout"
        }
      ]
    },
    {
      "cell_type": "code",
      "metadata": {
        "id": "xlvs8HY4I7_8",
        "outputId": "e33eaa2a-2365-47dc-c2cc-8ee650fcefab",
        "colab": {
          "base_uri": "https://localhost:8080/"
        }
      },
      "source": [
        "# Element wise mult\r\n",
        "z = x * y\r\n",
        "print(z)"
      ],
      "execution_count": 55,
      "outputs": [
        {
          "output_type": "stream",
          "text": [
            "tensor([[10.7989, 10.5726,  9.9024],\n",
            "        [ 9.9194, 11.3040,  8.3717]])\n"
          ],
          "name": "stdout"
        }
      ]
    },
    {
      "cell_type": "code",
      "metadata": {
        "id": "z87udig8JgIc",
        "outputId": "a35768fe-df87-4e70-dfe4-31540cea292e",
        "colab": {
          "base_uri": "https://localhost:8080/"
        }
      },
      "source": [
        "# dot product\r\n",
        "x = torch.tensor([1, 2, 3])\r\n",
        "y = torch.tensor([9, 8, 7])\r\n",
        "z = torch.dot(x.view(-1),y.view(-1))\r\n",
        "print(z)"
      ],
      "execution_count": 62,
      "outputs": [
        {
          "output_type": "stream",
          "text": [
            "tensor(46)\n"
          ],
          "name": "stdout"
        }
      ]
    },
    {
      "cell_type": "code",
      "metadata": {
        "id": "P9w0CfwgJoxd",
        "outputId": "720c90ef-f6c0-43d8-f806-b5a35e6dca81",
        "colab": {
          "base_uri": "https://localhost:8080/"
        }
      },
      "source": [
        "# Batch Matrix Multiplication\r\n",
        "batch = 32\r\n",
        "n = 10\r\n",
        "m = 20\r\n",
        "p = 30\r\n",
        "\r\n",
        "tensor1 = torch.rand((batch, n, m))\r\n",
        "tensor2 = torch.rand((batch, m, p))\r\n",
        "out_bnm = torch.bmm(tensor1, tensor2) # (batch, n, p)\r\n",
        "print(out_bnm)"
      ],
      "execution_count": 66,
      "outputs": [
        {
          "output_type": "stream",
          "text": [
            "tensor([[[5.3675, 5.7151, 5.0869,  ..., 4.6606, 4.9482, 5.3540],\n",
            "         [4.0976, 3.9877, 3.9204,  ..., 3.2720, 3.3972, 3.8431],\n",
            "         [4.4802, 4.2235, 3.7296,  ..., 5.1053, 4.4611, 5.1983],\n",
            "         ...,\n",
            "         [3.5892, 3.5182, 2.7512,  ..., 2.9290, 3.9132, 3.9677],\n",
            "         [4.8670, 4.6213, 4.1678,  ..., 4.4448, 4.6724, 5.1957],\n",
            "         [5.0269, 5.1212, 4.0964,  ..., 5.0042, 4.8650, 4.8590]],\n",
            "\n",
            "        [[4.8657, 6.5958, 4.8835,  ..., 6.1438, 6.1228, 4.8888],\n",
            "         [4.9039, 5.8194, 3.8613,  ..., 4.9002, 5.7806, 3.8437],\n",
            "         [3.0559, 4.4767, 3.1601,  ..., 3.5245, 4.2160, 2.7587],\n",
            "         ...,\n",
            "         [3.7357, 4.6189, 3.5983,  ..., 4.2058, 4.7819, 3.8262],\n",
            "         [4.9819, 6.6932, 4.1788,  ..., 6.0668, 5.6041, 3.8637],\n",
            "         [4.5576, 6.9206, 4.3509,  ..., 5.7075, 6.4605, 4.3517]],\n",
            "\n",
            "        [[5.7926, 6.9736, 4.9422,  ..., 6.5580, 6.7413, 6.2398],\n",
            "         [5.2583, 5.4902, 4.0289,  ..., 5.0473, 5.7521, 4.9493],\n",
            "         [5.9326, 6.6893, 4.2433,  ..., 5.0891, 5.6045, 6.3507],\n",
            "         ...,\n",
            "         [5.2982, 7.0398, 3.6095,  ..., 5.6828, 6.3689, 5.7510],\n",
            "         [5.5951, 7.3909, 4.7672,  ..., 6.0069, 7.4490, 6.2717],\n",
            "         [4.9641, 5.9029, 3.8767,  ..., 5.2195, 6.5792, 4.6929]],\n",
            "\n",
            "        ...,\n",
            "\n",
            "        [[4.5577, 3.7132, 5.2743,  ..., 5.0943, 3.3275, 4.4813],\n",
            "         [4.9230, 4.1157, 4.4726,  ..., 5.0224, 3.9379, 4.4259],\n",
            "         [3.1604, 3.6317, 4.1179,  ..., 3.7424, 3.6288, 3.0184],\n",
            "         ...,\n",
            "         [4.2210, 5.4388, 5.5803,  ..., 6.0698, 4.0954, 5.4748],\n",
            "         [4.2182, 3.8859, 5.6190,  ..., 5.5383, 4.0104, 3.9512],\n",
            "         [3.8603, 4.7562, 5.0433,  ..., 4.6731, 3.1501, 4.6750]],\n",
            "\n",
            "        [[5.2635, 5.7874, 5.9055,  ..., 7.1685, 5.7062, 6.0291],\n",
            "         [5.5022, 5.8416, 5.9374,  ..., 5.7013, 5.1794, 5.7281],\n",
            "         [3.8156, 5.2331, 5.3399,  ..., 5.8016, 4.7165, 4.5758],\n",
            "         ...,\n",
            "         [3.4149, 4.3157, 4.4570,  ..., 4.6142, 3.5578, 4.3537],\n",
            "         [5.0593, 4.5472, 5.1311,  ..., 5.8277, 4.7284, 4.5647],\n",
            "         [5.8067, 7.1215, 6.7450,  ..., 7.8218, 6.5469, 5.9541]],\n",
            "\n",
            "        [[7.3168, 7.3016, 5.2518,  ..., 6.3692, 4.5256, 6.3253],\n",
            "         [5.7124, 6.5483, 4.9400,  ..., 6.3181, 4.8955, 5.9392],\n",
            "         [4.9747, 4.8733, 4.4156,  ..., 4.5491, 3.6988, 4.0519],\n",
            "         ...,\n",
            "         [6.2205, 6.3717, 4.5995,  ..., 5.7344, 5.0068, 5.6715],\n",
            "         [5.1520, 5.6404, 4.9073,  ..., 5.3836, 4.1105, 5.7335],\n",
            "         [6.3578, 5.7187, 4.7191,  ..., 5.4618, 4.1282, 5.3318]]])\n"
          ],
          "name": "stdout"
        }
      ]
    },
    {
      "cell_type": "code",
      "metadata": {
        "id": "SzRXihVdMwOF",
        "outputId": "2823f2a8-ea64-411f-b7be-31c33d0a8cc6",
        "colab": {
          "base_uri": "https://localhost:8080/"
        }
      },
      "source": [
        "out_bnm.shape"
      ],
      "execution_count": 67,
      "outputs": [
        {
          "output_type": "execute_result",
          "data": {
            "text/plain": [
              "torch.Size([32, 10, 30])"
            ]
          },
          "metadata": {
            "tags": []
          },
          "execution_count": 67
        }
      ]
    },
    {
      "cell_type": "code",
      "metadata": {
        "id": "EfFWvqqZM7Qd",
        "outputId": "10042e2d-e144-427c-c83d-920f54bf1d82",
        "colab": {
          "base_uri": "https://localhost:8080/"
        }
      },
      "source": [
        "# Broadcasting\r\n",
        "x1 = torch.rand((5,5))\r\n",
        "x2 = torch.rand((1,5))\r\n",
        "print(x1),print(x2)"
      ],
      "execution_count": 68,
      "outputs": [
        {
          "output_type": "stream",
          "text": [
            "tensor([[0.6238, 0.0879, 0.8824, 0.7231, 0.9103],\n",
            "        [0.6001, 0.1377, 0.8356, 0.9631, 0.4799],\n",
            "        [0.4734, 0.4250, 0.2099, 0.4212, 0.2647],\n",
            "        [0.3993, 0.1917, 0.4427, 0.7784, 0.1165],\n",
            "        [0.0131, 0.2620, 0.9760, 0.4110, 0.3114]])\n",
            "tensor([[0.6770, 0.1287, 0.7203, 0.9133, 0.9888]])\n"
          ],
          "name": "stdout"
        },
        {
          "output_type": "execute_result",
          "data": {
            "text/plain": [
              "(None, None)"
            ]
          },
          "metadata": {
            "tags": []
          },
          "execution_count": 68
        }
      ]
    },
    {
      "cell_type": "code",
      "metadata": {
        "id": "vMN14zisNQpU",
        "outputId": "59468f43-d442-4634-e2e2-cf7b4f408d99",
        "colab": {
          "base_uri": "https://localhost:8080/"
        }
      },
      "source": [
        "z = x1 - x2\r\n",
        "z1 = x1 ** x2\r\n",
        "print(z), print(z1)"
      ],
      "execution_count": 70,
      "outputs": [
        {
          "output_type": "stream",
          "text": [
            "tensor([[-0.0533, -0.0407,  0.1621, -0.1903, -0.0785],\n",
            "        [-0.0770,  0.0091,  0.1154,  0.0498, -0.5090],\n",
            "        [-0.2036,  0.2963, -0.5104, -0.4922, -0.7241],\n",
            "        [-0.2778,  0.0630, -0.2776, -0.1349, -0.8723],\n",
            "        [-0.6640,  0.1333,  0.2557, -0.5023, -0.6775]])\n",
            "tensor([[0.7265, 0.7314, 0.9138, 0.7437, 0.9113],\n",
            "        [0.7077, 0.7749, 0.8787, 0.9662, 0.4838],\n",
            "        [0.6027, 0.8957, 0.3248, 0.4539, 0.2687],\n",
            "        [0.5371, 0.8085, 0.5560, 0.7955, 0.1194],\n",
            "        [0.0531, 0.8417, 0.9826, 0.4439, 0.3155]])\n"
          ],
          "name": "stdout"
        },
        {
          "output_type": "execute_result",
          "data": {
            "text/plain": [
              "(None, None)"
            ]
          },
          "metadata": {
            "tags": []
          },
          "execution_count": 70
        }
      ]
    },
    {
      "cell_type": "markdown",
      "metadata": {
        "id": "OFu9J9J3OSdB"
      },
      "source": [
        "# Other Tensor Operations"
      ]
    },
    {
      "cell_type": "code",
      "metadata": {
        "colab": {
          "base_uri": "https://localhost:8080/"
        },
        "id": "Yedg-vxINvo6",
        "outputId": "72215da0-c2d9-4acd-8c45-2dd49ffad665"
      },
      "source": [
        "sum_x_0 = torch.sum(x, dim =0) ## dim = 0 Row wise\r\n",
        "print(sum_x_0)"
      ],
      "execution_count": 73,
      "outputs": [
        {
          "output_type": "stream",
          "text": [
            "tensor(6)\n"
          ],
          "name": "stdout"
        }
      ]
    },
    {
      "cell_type": "code",
      "metadata": {
        "id": "so9SOFqaOjRZ",
        "outputId": "853b61cb-4801-443a-d990-e0535597b7dc",
        "colab": {
          "base_uri": "https://localhost:8080/"
        }
      },
      "source": [
        "value, indices = torch.max(x, dim =0)\r\n",
        "print(value, indices)"
      ],
      "execution_count": 74,
      "outputs": [
        {
          "output_type": "stream",
          "text": [
            "tensor(3) tensor(2)\n"
          ],
          "name": "stdout"
        }
      ]
    },
    {
      "cell_type": "code",
      "metadata": {
        "id": "7ePT6pLhPBGj",
        "outputId": "e8ee5085-0ae7-4b07-c718-25f279bcc9a0",
        "colab": {
          "base_uri": "https://localhost:8080/"
        }
      },
      "source": [
        "# Absolute value \r\n",
        "abs_x = torch.abs(x)\r\n",
        "x = torch.argmax(x, dim = 0)\r\n",
        "print(x) ## Return only index\r\n"
      ],
      "execution_count": 75,
      "outputs": [
        {
          "output_type": "stream",
          "text": [
            "tensor(2)\n"
          ],
          "name": "stdout"
        }
      ]
    },
    {
      "cell_type": "code",
      "metadata": {
        "id": "jmzpopzVPOHs",
        "outputId": "260d3641-5be3-4989-fb9b-d4aff644718e",
        "colab": {
          "base_uri": "https://localhost:8080/"
        }
      },
      "source": [
        "# Mean\r\n",
        "mean_x = torch.mean(x.float(), dim =0)\r\n",
        "print(mean_x)"
      ],
      "execution_count": 76,
      "outputs": [
        {
          "output_type": "stream",
          "text": [
            "tensor(2.)\n"
          ],
          "name": "stdout"
        }
      ]
    },
    {
      "cell_type": "code",
      "metadata": {
        "id": "36DljEbRrDJB",
        "outputId": "d0d58d8b-bab2-4448-cdd2-c8cb3c6c9fce",
        "colab": {
          "base_uri": "https://localhost:8080/"
        }
      },
      "source": [
        "# Check Equal\r\n",
        "z = torch.eq(x,y)\r\n",
        "z"
      ],
      "execution_count": 77,
      "outputs": [
        {
          "output_type": "execute_result",
          "data": {
            "text/plain": [
              "tensor([False, False, False])"
            ]
          },
          "metadata": {
            "tags": []
          },
          "execution_count": 77
        }
      ]
    },
    {
      "cell_type": "code",
      "metadata": {
        "id": "CMK30qkprLnm",
        "outputId": "262fd90b-e2a3-41db-a59f-acd87832e779",
        "colab": {
          "base_uri": "https://localhost:8080/"
        }
      },
      "source": [
        "# Sort\r\n",
        "sorted_y, indices = torch.sort(y, dim = 0, descending= False)\r\n",
        "print(sorted_y)"
      ],
      "execution_count": 78,
      "outputs": [
        {
          "output_type": "stream",
          "text": [
            "tensor([7, 8, 9])\n"
          ],
          "name": "stdout"
        }
      ]
    },
    {
      "cell_type": "code",
      "metadata": {
        "id": "tSGksBGBsKqd"
      },
      "source": [
        ""
      ],
      "execution_count": null,
      "outputs": []
    },
    {
      "cell_type": "code",
      "metadata": {
        "id": "HChIqOXArc3q",
        "outputId": "0bb1890f-fe86-4b17-a733-b64ead9987f8",
        "colab": {
          "base_uri": "https://localhost:8080/"
        }
      },
      "source": [
        "# Clamp\r\n",
        "z = torch.clamp(x, min = 0, max = 10) # Any value less than 0 will be set to 0 and any value more than 10 will be set to 10.\r\n",
        "print(z)"
      ],
      "execution_count": 79,
      "outputs": [
        {
          "output_type": "stream",
          "text": [
            "tensor(2)\n"
          ],
          "name": "stdout"
        }
      ]
    },
    {
      "cell_type": "markdown",
      "metadata": {
        "id": "TYQkRUHBsHXm"
      },
      "source": [
        "# **Indexing**"
      ]
    },
    {
      "cell_type": "code",
      "metadata": {
        "id": "PvirKZQNrxSO",
        "outputId": "d0b5d1b2-38c2-4ab8-b3d7-0e5283231b82",
        "colab": {
          "base_uri": "https://localhost:8080/"
        }
      },
      "source": [
        "batch_size = 10\r\n",
        "features = 25\r\n",
        "x = torch.rand((batch_size, features))\r\n",
        "print(x[0].shape), print(x[:,0].shape) # First print the all features for first example and second one prints the first features of all the examples.\r\n"
      ],
      "execution_count": 83,
      "outputs": [
        {
          "output_type": "stream",
          "text": [
            "torch.Size([25])\n",
            "torch.Size([10])\n"
          ],
          "name": "stdout"
        },
        {
          "output_type": "execute_result",
          "data": {
            "text/plain": [
              "(None, None)"
            ]
          },
          "metadata": {
            "tags": []
          },
          "execution_count": 83
        }
      ]
    },
    {
      "cell_type": "code",
      "metadata": {
        "id": "MOFZDjiashY3",
        "outputId": "91a40ef8-c9da-42bb-9681-68ebcfb47a7d",
        "colab": {
          "base_uri": "https://localhost:8080/"
        }
      },
      "source": [
        "print(x[2,0:10]) # Second row and 0-10 columns"
      ],
      "execution_count": 85,
      "outputs": [
        {
          "output_type": "stream",
          "text": [
            "tensor([0.0910, 0.3832, 0.0338, 0.4766, 0.3345, 0.4057, 0.6403, 0.2227, 0.8429,\n",
            "        0.1644])\n"
          ],
          "name": "stdout"
        }
      ]
    },
    {
      "cell_type": "code",
      "metadata": {
        "id": "nu0uZzAr05b4",
        "outputId": "c157e3bb-d37e-4efa-8e09-f62ee18646b4",
        "colab": {
          "base_uri": "https://localhost:8080/"
        }
      },
      "source": [
        "# Fancy indexing\r\n",
        "x = torch.arange(10)\r\n",
        "indices = [2,5,8] # Print 3rd, 6th and 9th value\r\n",
        "print(x[indices])"
      ],
      "execution_count": 87,
      "outputs": [
        {
          "output_type": "stream",
          "text": [
            "tensor([2, 5, 8])\n"
          ],
          "name": "stdout"
        }
      ]
    },
    {
      "cell_type": "code",
      "metadata": {
        "id": "et1ynvrU1RLB",
        "outputId": "ca72e4e3-cd72-45e4-dfd8-bcb4352282d2",
        "colab": {
          "base_uri": "https://localhost:8080/"
        }
      },
      "source": [
        "x = torch.rand((3,5))\r\n",
        "rows = torch.tensor([1,0])\r\n",
        "cols = torch.tensor([4,0])\r\n",
        "print(x[rows, cols]) # Print 2nd row 4th col and 1st Row and 1st col"
      ],
      "execution_count": 90,
      "outputs": [
        {
          "output_type": "stream",
          "text": [
            "tensor([0.4626, 0.5282])\n"
          ],
          "name": "stdout"
        }
      ]
    },
    {
      "cell_type": "code",
      "metadata": {
        "id": "UAIDYsFY1u4x",
        "outputId": "a0ae3505-0956-4bed-d298-339b162b2826",
        "colab": {
          "base_uri": "https://localhost:8080/"
        }
      },
      "source": [
        "# More Advanced Indexing\r\n",
        "x = torch.arange(10)\r\n",
        "print(x[(x > 2) & (x< 8)]) # Print values more than 2 and less than 8.\r\n",
        "print(x[x.remainder(2)== 0]) # Print if the digits are even numbers."
      ],
      "execution_count": 94,
      "outputs": [
        {
          "output_type": "stream",
          "text": [
            "tensor([3, 4, 5, 6, 7])\n",
            "tensor([0, 2, 4, 6, 8])\n"
          ],
          "name": "stdout"
        }
      ]
    },
    {
      "cell_type": "code",
      "metadata": {
        "id": "KROyZKeq2TIZ",
        "outputId": "5e9f4372-3e84-40cb-ca87-a942d89edd16",
        "colab": {
          "base_uri": "https://localhost:8080/"
        }
      },
      "source": [
        "print(torch.where(x > 5, x, x*2)) # Print if the value is less than 5 than 5 * x else x\r\n",
        "print(x.ndimension())\r\n",
        "print(x.numel()) # Number of values"
      ],
      "execution_count": 97,
      "outputs": [
        {
          "output_type": "stream",
          "text": [
            "tensor([ 0,  2,  4,  6,  8, 10,  6,  7,  8,  9])\n",
            "1\n",
            "10\n"
          ],
          "name": "stdout"
        }
      ]
    },
    {
      "cell_type": "markdown",
      "metadata": {
        "id": "GWFWHciJ3Yp8"
      },
      "source": [
        "# Reshaping the Tensors"
      ]
    },
    {
      "cell_type": "code",
      "metadata": {
        "id": "ZzolnhIf2vbd",
        "outputId": "e150ef25-cfe9-4b24-9f62-849522b627c4",
        "colab": {
          "base_uri": "https://localhost:8080/"
        }
      },
      "source": [
        "x = torch.arange(9)\r\n",
        "x_v = x.view(3,3)\r\n",
        "x_rs = x.reshape(3,3)\r\n",
        "print(x_v), print(x_rs)"
      ],
      "execution_count": 99,
      "outputs": [
        {
          "output_type": "stream",
          "text": [
            "tensor([[0, 1, 2],\n",
            "        [3, 4, 5],\n",
            "        [6, 7, 8]])\n",
            "tensor([[0, 1, 2],\n",
            "        [3, 4, 5],\n",
            "        [6, 7, 8]])\n"
          ],
          "name": "stdout"
        },
        {
          "output_type": "execute_result",
          "data": {
            "text/plain": [
              "(None, None)"
            ]
          },
          "metadata": {
            "tags": []
          },
          "execution_count": 99
        }
      ]
    },
    {
      "cell_type": "code",
      "metadata": {
        "id": "5WM9BcYJ4GpC",
        "outputId": "329bb7e7-aef8-4d4a-defb-3ebaff535122",
        "colab": {
          "base_uri": "https://localhost:8080/"
        }
      },
      "source": [
        "print(x_v.t()) #Transpose"
      ],
      "execution_count": 101,
      "outputs": [
        {
          "output_type": "stream",
          "text": [
            "tensor([[0, 3, 6],\n",
            "        [1, 4, 7],\n",
            "        [2, 5, 8]])\n"
          ],
          "name": "stdout"
        }
      ]
    },
    {
      "cell_type": "code",
      "metadata": {
        "id": "KRW0r1Pm4cny",
        "outputId": "bd68fbe0-b3c9-4f40-f502-522875f9b48e",
        "colab": {
          "base_uri": "https://localhost:8080/"
        }
      },
      "source": [
        "print(x_v.reshape(9))"
      ],
      "execution_count": 102,
      "outputs": [
        {
          "output_type": "stream",
          "text": [
            "tensor([0, 1, 2, 3, 4, 5, 6, 7, 8])\n"
          ],
          "name": "stdout"
        }
      ]
    },
    {
      "cell_type": "code",
      "metadata": {
        "id": "EHKqjF8r4uWa",
        "outputId": "5e20595f-2900-4b43-c76f-c22af58a158f",
        "colab": {
          "base_uri": "https://localhost:8080/"
        }
      },
      "source": [
        "x1 = torch.rand((2,5))\r\n",
        "x2 = torch.rand((2,5))\r\n",
        "print(x1), print(x2)\r\n",
        "print(torch.cat((x1,x2), dim = 0))\r\n",
        "print(torch.cat((x1,x2), dim = 1))"
      ],
      "execution_count": 108,
      "outputs": [
        {
          "output_type": "stream",
          "text": [
            "tensor([[0.4649, 0.1996, 0.8049, 0.8545, 0.8633],\n",
            "        [0.7423, 0.3477, 0.9109, 0.1643, 0.5575]])\n",
            "tensor([[0.5540, 0.1089, 0.9281, 0.8734, 0.4266],\n",
            "        [0.2191, 0.1718, 0.9313, 0.4503, 0.6189]])\n",
            "tensor([[0.4649, 0.1996, 0.8049, 0.8545, 0.8633],\n",
            "        [0.7423, 0.3477, 0.9109, 0.1643, 0.5575],\n",
            "        [0.5540, 0.1089, 0.9281, 0.8734, 0.4266],\n",
            "        [0.2191, 0.1718, 0.9313, 0.4503, 0.6189]])\n",
            "tensor([[0.4649, 0.1996, 0.8049, 0.8545, 0.8633, 0.5540, 0.1089, 0.9281, 0.8734,\n",
            "         0.4266],\n",
            "        [0.7423, 0.3477, 0.9109, 0.1643, 0.5575, 0.2191, 0.1718, 0.9313, 0.4503,\n",
            "         0.6189]])\n"
          ],
          "name": "stdout"
        }
      ]
    },
    {
      "cell_type": "code",
      "metadata": {
        "id": "Qqwy-u6t4_Cq",
        "outputId": "0f0b94fc-cc15-443a-884d-84859a54da2c",
        "colab": {
          "base_uri": "https://localhost:8080/"
        }
      },
      "source": [
        "z = x1.view(-1)\r\n",
        "print(z)"
      ],
      "execution_count": 109,
      "outputs": [
        {
          "output_type": "stream",
          "text": [
            "tensor([0.4649, 0.1996, 0.8049, 0.8545, 0.8633, 0.7423, 0.3477, 0.9109, 0.1643,\n",
            "        0.5575])\n"
          ],
          "name": "stdout"
        }
      ]
    },
    {
      "cell_type": "code",
      "metadata": {
        "id": "zI3OVa7D5Wfr",
        "outputId": "4e84f2e3-eea3-48d4-c8d5-375696d1bbd6",
        "colab": {
          "base_uri": "https://localhost:8080/"
        }
      },
      "source": [
        "batch = 64\r\n",
        "x = torch.rand((batch, 2, 5))\r\n",
        "z = x.view(batch, -1)\r\n",
        "print(z.shape)"
      ],
      "execution_count": 110,
      "outputs": [
        {
          "output_type": "stream",
          "text": [
            "torch.Size([64, 10])\n"
          ],
          "name": "stdout"
        }
      ]
    },
    {
      "cell_type": "code",
      "metadata": {
        "id": "9Sc_1S0s5m-K",
        "outputId": "94819eb7-7356-4814-8013-819a4b3ff54c",
        "colab": {
          "base_uri": "https://localhost:8080/"
        }
      },
      "source": [
        "# Permute V.Important\r\n",
        "# swap 2nd and 3rd dimesnion\r\n",
        "z = x.permute(0, 2, 1)\r\n",
        "print(z.shape)"
      ],
      "execution_count": 111,
      "outputs": [
        {
          "output_type": "stream",
          "text": [
            "torch.Size([64, 5, 2])\n"
          ],
          "name": "stdout"
        }
      ]
    },
    {
      "cell_type": "code",
      "metadata": {
        "id": "TTCfRaOK6B16",
        "outputId": "cceccfd8-79d3-4fbc-d62b-4a3d89fdddec",
        "colab": {
          "base_uri": "https://localhost:8080/"
        }
      },
      "source": [
        "# Unsqueeze\r\n",
        "# Returns a new tensor with a dimension of size one inserted at the specified position.\r\n",
        "# The returned tensor shares the same underlying data with this tensor.\r\n",
        "# A dim value within the range [-input.dim() - 1, input.dim() + 1) can be used. Negative dim will correspond to unsqueeze() applied at dim = dim + input.dim() + 1.\r\n",
        "x = torch.arange(10)\r\n",
        "y = x.unsqueeze(0)\r\n",
        "print(y.shape)\r\n",
        "print(y)\r\n",
        "y = x.unsqueeze(1)\r\n",
        "print(y.shape)\r\n",
        "print(y)"
      ],
      "execution_count": 117,
      "outputs": [
        {
          "output_type": "stream",
          "text": [
            "torch.Size([1, 10])\n",
            "tensor([[0, 1, 2, 3, 4, 5, 6, 7, 8, 9]])\n",
            "torch.Size([10, 1])\n",
            "tensor([[0],\n",
            "        [1],\n",
            "        [2],\n",
            "        [3],\n",
            "        [4],\n",
            "        [5],\n",
            "        [6],\n",
            "        [7],\n",
            "        [8],\n",
            "        [9]])\n"
          ],
          "name": "stdout"
        }
      ]
    },
    {
      "cell_type": "code",
      "metadata": {
        "id": "Vx04dPUr6is6"
      },
      "source": [
        ""
      ],
      "execution_count": null,
      "outputs": []
    }
  ]
}