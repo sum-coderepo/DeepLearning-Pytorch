{
  "nbformat": 4,
  "nbformat_minor": 0,
  "metadata": {
    "colab": {
      "name": "Untitled8.ipynb",
      "provenance": [],
      "authorship_tag": "ABX9TyOeCyXkgHiqmuQjHM44dYVh",
      "include_colab_link": true
    },
    "kernelspec": {
      "name": "python3",
      "display_name": "Python 3"
    }
  },
  "cells": [
    {
      "cell_type": "markdown",
      "metadata": {
        "id": "view-in-github",
        "colab_type": "text"
      },
      "source": [
        "<a href=\"https://colab.research.google.com/github/sum-coderepo/DeepLearning-Pytorch/blob/master/PytorchTutorials/Tensors_Indexing.ipynb\" target=\"_parent\"><img src=\"https://colab.research.google.com/assets/colab-badge.svg\" alt=\"Open In Colab\"/></a>"
      ]
    },
    {
      "cell_type": "code",
      "metadata": {
        "id": "tqhy99CsXv8-"
      },
      "source": [
        "import torch\r\n",
        "device = \"cuda\" if torch.cuda.is_available() else \"cpu\""
      ],
      "execution_count": 2,
      "outputs": []
    },
    {
      "cell_type": "code",
      "metadata": {
        "id": "BsEW1tOQY24q"
      },
      "source": [
        "my_tensors = torch.tensor([[1,2,3], [4,5,6]], dtype=torch.float32,device = device , requires_grad= True)"
      ],
      "execution_count": 4,
      "outputs": []
    },
    {
      "cell_type": "code",
      "metadata": {
        "colab": {
          "base_uri": "https://localhost:8080/"
        },
        "id": "5aJg9RrNZZ3U",
        "outputId": "dc30e089-ceb9-43ad-f98b-df909c37b435"
      },
      "source": [
        "my_tensors.device, my_tensors.requires_grad, my_tensors.shape"
      ],
      "execution_count": 9,
      "outputs": [
        {
          "output_type": "execute_result",
          "data": {
            "text/plain": [
              "(device(type='cpu'), True, torch.Size([2, 3]))"
            ]
          },
          "metadata": {
            "tags": []
          },
          "execution_count": 9
        }
      ]
    },
    {
      "cell_type": "markdown",
      "metadata": {
        "id": "XEZiEbL7bViK"
      },
      "source": [
        "# Other Initialization Mthods"
      ]
    },
    {
      "cell_type": "code",
      "metadata": {
        "id": "1pE5eakOZfmV"
      },
      "source": [
        "my"
      ],
      "execution_count": null,
      "outputs": []
    }
  ]
}